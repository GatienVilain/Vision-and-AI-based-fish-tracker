{
  "nbformat": 4,
  "nbformat_minor": 0,
  "metadata": {
    "colab": {
      "provenance": [],
      "authorship_tag": "ABX9TyMZAgm0BLboIJCxqY6fBGKa",
      "include_colab_link": true
    },
    "kernelspec": {
      "name": "python3",
      "display_name": "Python 3"
    },
    "language_info": {
      "name": "python"
    }
  },
  "cells": [
    {
      "cell_type": "markdown",
      "metadata": {
        "id": "view-in-github",
        "colab_type": "text"
      },
      "source": [
        "<a href=\"https://colab.research.google.com/github/GatienVilain/Vision-and-AI-based-fish-tracker/blob/DeepSORT/DeepSORT_pipeline.ipynb\" target=\"_parent\"><img src=\"https://colab.research.google.com/assets/colab-badge.svg\" alt=\"Open In Colab\"/></a>"
      ]
    },
    {
      "cell_type": "markdown",
      "source": [
        "# Importing the requiered Librairies and installing requirements"
      ],
      "metadata": {
        "id": "TuI61LDbgc_r"
      }
    },
    {
      "cell_type": "code",
      "source": [
        "import glob\n",
        "import os\n",
        "HOME=os.getcwd()\n",
        "from IPython.display import Image,display"
      ],
      "metadata": {
        "id": "1l1MRfX6gfQ_"
      },
      "execution_count": 25,
      "outputs": []
    },
    {
      "cell_type": "code",
      "source": [
        "#clone the repository\n",
        "!git clone -b DeepSORT https://github.com/GatienVilain/Vision-and-AI-based-fish-tracker.git "
      ],
      "metadata": {
        "id": "DNhyjSDAgqza",
        "outputId": "03412bba-40be-40a9-b279-2a9932787091",
        "colab": {
          "base_uri": "https://localhost:8080/"
        }
      },
      "execution_count": 2,
      "outputs": [
        {
          "output_type": "stream",
          "name": "stdout",
          "text": [
            "Cloning into 'Vision-and-AI-based-fish-tracker'...\n",
            "remote: Enumerating objects: 1336, done.\u001b[K\n",
            "remote: Counting objects: 100% (52/52), done.\u001b[K\n",
            "remote: Compressing objects: 100% (40/40), done.\u001b[K\n",
            "remote: Total 1336 (delta 22), reused 24 (delta 11), pack-reused 1284\u001b[K\n",
            "Receiving objects: 100% (1336/1336), 679.46 MiB | 22.90 MiB/s, done.\n",
            "Resolving deltas: 100% (100/100), done.\n"
          ]
        }
      ]
    },
    {
      "cell_type": "code",
      "execution_count": 4,
      "metadata": {
        "id": "7upMbLq1gQTY",
        "outputId": "149150ce-4322-4e82-cadf-7c7dca2c7930",
        "colab": {
          "base_uri": "https://localhost:8080/",
          "height": 1000
        }
      },
      "outputs": [
        {
          "output_type": "stream",
          "name": "stdout",
          "text": [
            "/content/Vision-and-AI-based-fish-tracker/YOLOv8-DeepSORT-FishTracking-main\n",
            "Looking in indexes: https://pypi.org/simple, https://us-python.pkg.dev/colab-wheels/public/simple/\n",
            "Obtaining file:///content/Vision-and-AI-based-fish-tracker/YOLOv8-DeepSORT-FishTracking-main\n",
            "  Preparing metadata (setup.py) ... \u001b[?25l\u001b[?25hdone\n",
            "Collecting hydra-core>=1.2.0 (from ultralytics==8.0.3)\n",
            "  Downloading hydra_core-1.3.2-py3-none-any.whl (154 kB)\n",
            "\u001b[2K     \u001b[90m━━━━━━━━━━━━━━━━━━━━━━━━━━━━━━━━━━━━━━━\u001b[0m \u001b[32m154.5/154.5 kB\u001b[0m \u001b[31m3.6 MB/s\u001b[0m eta \u001b[36m0:00:00\u001b[0m\n",
            "\u001b[?25hRequirement already satisfied: matplotlib>=3.2.2 in /usr/local/lib/python3.10/dist-packages (from ultralytics==8.0.3) (3.7.1)\n",
            "Requirement already satisfied: numpy>=1.18.5 in /usr/local/lib/python3.10/dist-packages (from ultralytics==8.0.3) (1.22.4)\n",
            "Requirement already satisfied: opencv-python>=4.1.1 in /usr/local/lib/python3.10/dist-packages (from ultralytics==8.0.3) (4.7.0.72)\n",
            "Requirement already satisfied: Pillow>=7.1.2 in /usr/local/lib/python3.10/dist-packages (from ultralytics==8.0.3) (8.4.0)\n",
            "Requirement already satisfied: PyYAML>=5.3.1 in /usr/local/lib/python3.10/dist-packages (from ultralytics==8.0.3) (6.0)\n",
            "Requirement already satisfied: requests>=2.23.0 in /usr/local/lib/python3.10/dist-packages (from ultralytics==8.0.3) (2.27.1)\n",
            "Requirement already satisfied: scipy>=1.4.1 in /usr/local/lib/python3.10/dist-packages (from ultralytics==8.0.3) (1.10.1)\n",
            "Requirement already satisfied: torch>=1.7.0 in /usr/local/lib/python3.10/dist-packages (from ultralytics==8.0.3) (2.0.1+cu118)\n",
            "Requirement already satisfied: torchvision>=0.8.1 in /usr/local/lib/python3.10/dist-packages (from ultralytics==8.0.3) (0.15.2+cu118)\n",
            "Requirement already satisfied: tqdm>=4.64.0 in /usr/local/lib/python3.10/dist-packages (from ultralytics==8.0.3) (4.65.0)\n",
            "Requirement already satisfied: tensorboard>=2.4.1 in /usr/local/lib/python3.10/dist-packages (from ultralytics==8.0.3) (2.12.2)\n",
            "Requirement already satisfied: pandas>=1.1.4 in /usr/local/lib/python3.10/dist-packages (from ultralytics==8.0.3) (1.5.3)\n",
            "Requirement already satisfied: seaborn>=0.11.0 in /usr/local/lib/python3.10/dist-packages (from ultralytics==8.0.3) (0.12.2)\n",
            "Requirement already satisfied: ipython in /usr/local/lib/python3.10/dist-packages (from ultralytics==8.0.3) (7.34.0)\n",
            "Requirement already satisfied: psutil in /usr/local/lib/python3.10/dist-packages (from ultralytics==8.0.3) (5.9.5)\n",
            "Collecting thop>=0.1.1 (from ultralytics==8.0.3)\n",
            "  Downloading thop-0.1.1.post2209072238-py3-none-any.whl (15 kB)\n",
            "Collecting GitPython>=3.1.24 (from ultralytics==8.0.3)\n",
            "  Downloading GitPython-3.1.31-py3-none-any.whl (184 kB)\n",
            "\u001b[2K     \u001b[90m━━━━━━━━━━━━━━━━━━━━━━━━━━━━━━━━━━━━━━\u001b[0m \u001b[32m184.3/184.3 kB\u001b[0m \u001b[31m11.7 MB/s\u001b[0m eta \u001b[36m0:00:00\u001b[0m\n",
            "\u001b[?25hCollecting check-manifest (from ultralytics==8.0.3)\n",
            "  Downloading check_manifest-0.49-py3-none-any.whl (20 kB)\n",
            "Requirement already satisfied: pytest in /usr/local/lib/python3.10/dist-packages (from ultralytics==8.0.3) (7.2.2)\n",
            "Collecting pytest-cov (from ultralytics==8.0.3)\n",
            "  Downloading pytest_cov-4.0.0-py3-none-any.whl (21 kB)\n",
            "Collecting coverage (from ultralytics==8.0.3)\n",
            "  Downloading coverage-7.2.5-cp310-cp310-manylinux_2_5_x86_64.manylinux1_x86_64.manylinux_2_17_x86_64.manylinux2014_x86_64.whl (228 kB)\n",
            "\u001b[2K     \u001b[90m━━━━━━━━━━━━━━━━━━━━━━━━━━━━━━━━━━━━━━\u001b[0m \u001b[32m228.2/228.2 kB\u001b[0m \u001b[31m24.8 MB/s\u001b[0m eta \u001b[36m0:00:00\u001b[0m\n",
            "\u001b[?25hCollecting mkdocs (from ultralytics==8.0.3)\n",
            "  Downloading mkdocs-1.4.3-py3-none-any.whl (3.7 MB)\n",
            "\u001b[2K     \u001b[90m━━━━━━━━━━━━━━━━━━━━━━━━━━━━━━━━━━━━━━━━\u001b[0m \u001b[32m3.7/3.7 MB\u001b[0m \u001b[31m64.2 MB/s\u001b[0m eta \u001b[36m0:00:00\u001b[0m\n",
            "\u001b[?25hCollecting mkdocstrings[python] (from ultralytics==8.0.3)\n",
            "  Downloading mkdocstrings-0.21.2-py3-none-any.whl (26 kB)\n",
            "Collecting mkdocs-material (from ultralytics==8.0.3)\n",
            "  Downloading mkdocs_material-9.1.14-py3-none-any.whl (7.8 MB)\n",
            "\u001b[2K     \u001b[90m━━━━━━━━━━━━━━━━━━━━━━━━━━━━━━━━━━━━━━━━\u001b[0m \u001b[32m7.8/7.8 MB\u001b[0m \u001b[31m65.0 MB/s\u001b[0m eta \u001b[36m0:00:00\u001b[0m\n",
            "\u001b[?25hCollecting gitdb<5,>=4.0.1 (from GitPython>=3.1.24->ultralytics==8.0.3)\n",
            "  Downloading gitdb-4.0.10-py3-none-any.whl (62 kB)\n",
            "\u001b[2K     \u001b[90m━━━━━━━━━━━━━━━━━━━━━━━━━━━━━━━━━━━━━━━━\u001b[0m \u001b[32m62.7/62.7 kB\u001b[0m \u001b[31m7.8 MB/s\u001b[0m eta \u001b[36m0:00:00\u001b[0m\n",
            "\u001b[?25hCollecting omegaconf<2.4,>=2.2 (from hydra-core>=1.2.0->ultralytics==8.0.3)\n",
            "  Downloading omegaconf-2.3.0-py3-none-any.whl (79 kB)\n",
            "\u001b[2K     \u001b[90m━━━━━━━━━━━━━━━━━━━━━━━━━━━━━━━━━━━━━━━━\u001b[0m \u001b[32m79.5/79.5 kB\u001b[0m \u001b[31m9.5 MB/s\u001b[0m eta \u001b[36m0:00:00\u001b[0m\n",
            "\u001b[?25hCollecting antlr4-python3-runtime==4.9.* (from hydra-core>=1.2.0->ultralytics==8.0.3)\n",
            "  Downloading antlr4-python3-runtime-4.9.3.tar.gz (117 kB)\n",
            "\u001b[2K     \u001b[90m━━━━━━━━━━━━━━━━━━━━━━━━━━━━━━━━━━━━━━\u001b[0m \u001b[32m117.0/117.0 kB\u001b[0m \u001b[31m14.7 MB/s\u001b[0m eta \u001b[36m0:00:00\u001b[0m\n",
            "\u001b[?25h  Preparing metadata (setup.py) ... \u001b[?25l\u001b[?25hdone\n",
            "Requirement already satisfied: packaging in /usr/local/lib/python3.10/dist-packages (from hydra-core>=1.2.0->ultralytics==8.0.3) (23.1)\n",
            "Requirement already satisfied: contourpy>=1.0.1 in /usr/local/lib/python3.10/dist-packages (from matplotlib>=3.2.2->ultralytics==8.0.3) (1.0.7)\n",
            "Requirement already satisfied: cycler>=0.10 in /usr/local/lib/python3.10/dist-packages (from matplotlib>=3.2.2->ultralytics==8.0.3) (0.11.0)\n",
            "Requirement already satisfied: fonttools>=4.22.0 in /usr/local/lib/python3.10/dist-packages (from matplotlib>=3.2.2->ultralytics==8.0.3) (4.39.3)\n",
            "Requirement already satisfied: kiwisolver>=1.0.1 in /usr/local/lib/python3.10/dist-packages (from matplotlib>=3.2.2->ultralytics==8.0.3) (1.4.4)\n",
            "Requirement already satisfied: pyparsing>=2.3.1 in /usr/local/lib/python3.10/dist-packages (from matplotlib>=3.2.2->ultralytics==8.0.3) (3.0.9)\n",
            "Requirement already satisfied: python-dateutil>=2.7 in /usr/local/lib/python3.10/dist-packages (from matplotlib>=3.2.2->ultralytics==8.0.3) (2.8.2)\n",
            "Requirement already satisfied: pytz>=2020.1 in /usr/local/lib/python3.10/dist-packages (from pandas>=1.1.4->ultralytics==8.0.3) (2022.7.1)\n",
            "Requirement already satisfied: urllib3<1.27,>=1.21.1 in /usr/local/lib/python3.10/dist-packages (from requests>=2.23.0->ultralytics==8.0.3) (1.26.15)\n",
            "Requirement already satisfied: certifi>=2017.4.17 in /usr/local/lib/python3.10/dist-packages (from requests>=2.23.0->ultralytics==8.0.3) (2022.12.7)\n",
            "Requirement already satisfied: charset-normalizer~=2.0.0 in /usr/local/lib/python3.10/dist-packages (from requests>=2.23.0->ultralytics==8.0.3) (2.0.12)\n",
            "Requirement already satisfied: idna<4,>=2.5 in /usr/local/lib/python3.10/dist-packages (from requests>=2.23.0->ultralytics==8.0.3) (3.4)\n",
            "Requirement already satisfied: absl-py>=0.4 in /usr/local/lib/python3.10/dist-packages (from tensorboard>=2.4.1->ultralytics==8.0.3) (1.4.0)\n",
            "Requirement already satisfied: grpcio>=1.48.2 in /usr/local/lib/python3.10/dist-packages (from tensorboard>=2.4.1->ultralytics==8.0.3) (1.54.0)\n",
            "Requirement already satisfied: google-auth<3,>=1.6.3 in /usr/local/lib/python3.10/dist-packages (from tensorboard>=2.4.1->ultralytics==8.0.3) (2.17.3)\n",
            "Requirement already satisfied: google-auth-oauthlib<1.1,>=0.5 in /usr/local/lib/python3.10/dist-packages (from tensorboard>=2.4.1->ultralytics==8.0.3) (1.0.0)\n",
            "Requirement already satisfied: markdown>=2.6.8 in /usr/local/lib/python3.10/dist-packages (from tensorboard>=2.4.1->ultralytics==8.0.3) (3.4.3)\n",
            "Requirement already satisfied: protobuf>=3.19.6 in /usr/local/lib/python3.10/dist-packages (from tensorboard>=2.4.1->ultralytics==8.0.3) (3.20.3)\n",
            "Requirement already satisfied: setuptools>=41.0.0 in /usr/local/lib/python3.10/dist-packages (from tensorboard>=2.4.1->ultralytics==8.0.3) (67.7.2)\n",
            "Requirement already satisfied: tensorboard-data-server<0.8.0,>=0.7.0 in /usr/local/lib/python3.10/dist-packages (from tensorboard>=2.4.1->ultralytics==8.0.3) (0.7.0)\n",
            "Requirement already satisfied: tensorboard-plugin-wit>=1.6.0 in /usr/local/lib/python3.10/dist-packages (from tensorboard>=2.4.1->ultralytics==8.0.3) (1.8.1)\n",
            "Requirement already satisfied: werkzeug>=1.0.1 in /usr/local/lib/python3.10/dist-packages (from tensorboard>=2.4.1->ultralytics==8.0.3) (2.3.0)\n",
            "Requirement already satisfied: wheel>=0.26 in /usr/local/lib/python3.10/dist-packages (from tensorboard>=2.4.1->ultralytics==8.0.3) (0.40.0)\n",
            "Requirement already satisfied: filelock in /usr/local/lib/python3.10/dist-packages (from torch>=1.7.0->ultralytics==8.0.3) (3.12.0)\n",
            "Requirement already satisfied: typing-extensions in /usr/local/lib/python3.10/dist-packages (from torch>=1.7.0->ultralytics==8.0.3) (4.5.0)\n",
            "Requirement already satisfied: sympy in /usr/local/lib/python3.10/dist-packages (from torch>=1.7.0->ultralytics==8.0.3) (1.11.1)\n",
            "Requirement already satisfied: networkx in /usr/local/lib/python3.10/dist-packages (from torch>=1.7.0->ultralytics==8.0.3) (3.1)\n",
            "Requirement already satisfied: jinja2 in /usr/local/lib/python3.10/dist-packages (from torch>=1.7.0->ultralytics==8.0.3) (3.1.2)\n",
            "Requirement already satisfied: triton==2.0.0 in /usr/local/lib/python3.10/dist-packages (from torch>=1.7.0->ultralytics==8.0.3) (2.0.0)\n",
            "Requirement already satisfied: cmake in /usr/local/lib/python3.10/dist-packages (from triton==2.0.0->torch>=1.7.0->ultralytics==8.0.3) (3.25.2)\n",
            "Requirement already satisfied: lit in /usr/local/lib/python3.10/dist-packages (from triton==2.0.0->torch>=1.7.0->ultralytics==8.0.3) (16.0.5)\n",
            "Requirement already satisfied: build>=0.1 in /usr/local/lib/python3.10/dist-packages (from check-manifest->ultralytics==8.0.3) (0.10.0)\n",
            "Requirement already satisfied: tomli in /usr/local/lib/python3.10/dist-packages (from check-manifest->ultralytics==8.0.3) (2.0.1)\n",
            "Collecting jedi>=0.16 (from ipython->ultralytics==8.0.3)\n",
            "  Downloading jedi-0.18.2-py2.py3-none-any.whl (1.6 MB)\n",
            "\u001b[2K     \u001b[90m━━━━━━━━━━━━━━━━━━━━━━━━━━━━━━━━━━━━━━━━\u001b[0m \u001b[32m1.6/1.6 MB\u001b[0m \u001b[31m75.9 MB/s\u001b[0m eta \u001b[36m0:00:00\u001b[0m\n",
            "\u001b[?25hRequirement already satisfied: decorator in /usr/local/lib/python3.10/dist-packages (from ipython->ultralytics==8.0.3) (4.4.2)\n",
            "Requirement already satisfied: pickleshare in /usr/local/lib/python3.10/dist-packages (from ipython->ultralytics==8.0.3) (0.7.5)\n",
            "Requirement already satisfied: traitlets>=4.2 in /usr/local/lib/python3.10/dist-packages (from ipython->ultralytics==8.0.3) (5.7.1)\n",
            "Requirement already satisfied: prompt-toolkit!=3.0.0,!=3.0.1,<3.1.0,>=2.0.0 in /usr/local/lib/python3.10/dist-packages (from ipython->ultralytics==8.0.3) (3.0.38)\n",
            "Requirement already satisfied: pygments in /usr/local/lib/python3.10/dist-packages (from ipython->ultralytics==8.0.3) (2.14.0)\n",
            "Requirement already satisfied: backcall in /usr/local/lib/python3.10/dist-packages (from ipython->ultralytics==8.0.3) (0.2.0)\n",
            "Requirement already satisfied: matplotlib-inline in /usr/local/lib/python3.10/dist-packages (from ipython->ultralytics==8.0.3) (0.1.6)\n",
            "Requirement already satisfied: pexpect>4.3 in /usr/local/lib/python3.10/dist-packages (from ipython->ultralytics==8.0.3) (4.8.0)\n",
            "Requirement already satisfied: click>=7.0 in /usr/local/lib/python3.10/dist-packages (from mkdocs->ultralytics==8.0.3) (8.1.3)\n",
            "Collecting ghp-import>=1.0 (from mkdocs->ultralytics==8.0.3)\n",
            "  Downloading ghp_import-2.1.0-py3-none-any.whl (11 kB)\n",
            "Collecting markdown>=2.6.8 (from tensorboard>=2.4.1->ultralytics==8.0.3)\n",
            "  Downloading Markdown-3.3.7-py3-none-any.whl (97 kB)\n",
            "\u001b[2K     \u001b[90m━━━━━━━━━━━━━━━━━━━━━━━━━━━━━━━━━━━━━━━━\u001b[0m \u001b[32m97.8/97.8 kB\u001b[0m \u001b[31m11.7 MB/s\u001b[0m eta \u001b[36m0:00:00\u001b[0m\n",
            "\u001b[?25hCollecting mergedeep>=1.3.4 (from mkdocs->ultralytics==8.0.3)\n",
            "  Downloading mergedeep-1.3.4-py3-none-any.whl (6.4 kB)\n",
            "Collecting pyyaml-env-tag>=0.1 (from mkdocs->ultralytics==8.0.3)\n",
            "  Downloading pyyaml_env_tag-0.1-py3-none-any.whl (3.9 kB)\n",
            "Collecting watchdog>=2.0 (from mkdocs->ultralytics==8.0.3)\n",
            "  Downloading watchdog-3.0.0-py3-none-manylinux2014_x86_64.whl (82 kB)\n",
            "\u001b[2K     \u001b[90m━━━━━━━━━━━━━━━━━━━━━━━━━━━━━━━━━━━━━━━━\u001b[0m \u001b[32m82.1/82.1 kB\u001b[0m \u001b[31m9.7 MB/s\u001b[0m eta \u001b[36m0:00:00\u001b[0m\n",
            "\u001b[?25hCollecting colorama>=0.4 (from mkdocs-material->ultralytics==8.0.3)\n",
            "  Downloading colorama-0.4.6-py2.py3-none-any.whl (25 kB)\n",
            "Collecting mkdocs-material-extensions>=1.1 (from mkdocs-material->ultralytics==8.0.3)\n",
            "  Downloading mkdocs_material_extensions-1.1.1-py3-none-any.whl (7.9 kB)\n",
            "Collecting pymdown-extensions>=9.9.1 (from mkdocs-material->ultralytics==8.0.3)\n",
            "  Downloading pymdown_extensions-10.0.1-py3-none-any.whl (240 kB)\n",
            "\u001b[2K     \u001b[90m━━━━━━━━━━━━━━━━━━━━━━━━━━━━━━━━━━━━━━\u001b[0m \u001b[32m240.1/240.1 kB\u001b[0m \u001b[31m22.9 MB/s\u001b[0m eta \u001b[36m0:00:00\u001b[0m\n",
            "\u001b[?25hRequirement already satisfied: regex>=2022.4.24 in /usr/local/lib/python3.10/dist-packages (from mkdocs-material->ultralytics==8.0.3) (2022.10.31)\n",
            "Requirement already satisfied: MarkupSafe>=1.1 in /usr/local/lib/python3.10/dist-packages (from mkdocstrings[python]->ultralytics==8.0.3) (2.1.2)\n",
            "Collecting mkdocs-autorefs>=0.3.1 (from mkdocstrings[python]->ultralytics==8.0.3)\n",
            "  Downloading mkdocs_autorefs-0.4.1-py3-none-any.whl (9.8 kB)\n",
            "Collecting mkdocstrings-python>=0.5.2 (from mkdocstrings[python]->ultralytics==8.0.3)\n",
            "  Downloading mkdocstrings_python-1.0.0-py3-none-any.whl (39 kB)\n",
            "Requirement already satisfied: attrs>=19.2.0 in /usr/local/lib/python3.10/dist-packages (from pytest->ultralytics==8.0.3) (23.1.0)\n",
            "Requirement already satisfied: iniconfig in /usr/local/lib/python3.10/dist-packages (from pytest->ultralytics==8.0.3) (2.0.0)\n",
            "Requirement already satisfied: pluggy<2.0,>=0.12 in /usr/local/lib/python3.10/dist-packages (from pytest->ultralytics==8.0.3) (1.0.0)\n",
            "Requirement already satisfied: exceptiongroup>=1.0.0rc8 in /usr/local/lib/python3.10/dist-packages (from pytest->ultralytics==8.0.3) (1.1.1)\n",
            "Requirement already satisfied: pyproject_hooks in /usr/local/lib/python3.10/dist-packages (from build>=0.1->check-manifest->ultralytics==8.0.3) (1.0.0)\n",
            "Collecting smmap<6,>=3.0.1 (from gitdb<5,>=4.0.1->GitPython>=3.1.24->ultralytics==8.0.3)\n",
            "  Downloading smmap-5.0.0-py3-none-any.whl (24 kB)\n",
            "Requirement already satisfied: cachetools<6.0,>=2.0.0 in /usr/local/lib/python3.10/dist-packages (from google-auth<3,>=1.6.3->tensorboard>=2.4.1->ultralytics==8.0.3) (5.3.0)\n",
            "Requirement already satisfied: pyasn1-modules>=0.2.1 in /usr/local/lib/python3.10/dist-packages (from google-auth<3,>=1.6.3->tensorboard>=2.4.1->ultralytics==8.0.3) (0.3.0)\n",
            "Requirement already satisfied: six>=1.9.0 in /usr/local/lib/python3.10/dist-packages (from google-auth<3,>=1.6.3->tensorboard>=2.4.1->ultralytics==8.0.3) (1.16.0)\n",
            "Requirement already satisfied: rsa<5,>=3.1.4 in /usr/local/lib/python3.10/dist-packages (from google-auth<3,>=1.6.3->tensorboard>=2.4.1->ultralytics==8.0.3) (4.9)\n",
            "Requirement already satisfied: requests-oauthlib>=0.7.0 in /usr/local/lib/python3.10/dist-packages (from google-auth-oauthlib<1.1,>=0.5->tensorboard>=2.4.1->ultralytics==8.0.3) (1.3.1)\n",
            "Requirement already satisfied: parso<0.9.0,>=0.8.0 in /usr/local/lib/python3.10/dist-packages (from jedi>=0.16->ipython->ultralytics==8.0.3) (0.8.3)\n",
            "Collecting griffe>=0.24 (from mkdocstrings-python>=0.5.2->mkdocstrings[python]->ultralytics==8.0.3)\n",
            "  Downloading griffe-0.28.1-py3-none-any.whl (90 kB)\n",
            "\u001b[2K     \u001b[90m━━━━━━━━━━━━━━━━━━━━━━━━━━━━━━━━━━━━━━━━\u001b[0m \u001b[32m90.1/90.1 kB\u001b[0m \u001b[31m8.2 MB/s\u001b[0m eta \u001b[36m0:00:00\u001b[0m\n",
            "\u001b[?25hRequirement already satisfied: ptyprocess>=0.5 in /usr/local/lib/python3.10/dist-packages (from pexpect>4.3->ipython->ultralytics==8.0.3) (0.7.0)\n",
            "Requirement already satisfied: wcwidth in /usr/local/lib/python3.10/dist-packages (from prompt-toolkit!=3.0.0,!=3.0.1,<3.1.0,>=2.0.0->ipython->ultralytics==8.0.3) (0.2.6)\n",
            "Requirement already satisfied: mpmath>=0.19 in /usr/local/lib/python3.10/dist-packages (from sympy->torch>=1.7.0->ultralytics==8.0.3) (1.3.0)\n",
            "Requirement already satisfied: pyasn1<0.6.0,>=0.4.6 in /usr/local/lib/python3.10/dist-packages (from pyasn1-modules>=0.2.1->google-auth<3,>=1.6.3->tensorboard>=2.4.1->ultralytics==8.0.3) (0.5.0)\n",
            "Requirement already satisfied: oauthlib>=3.0.0 in /usr/local/lib/python3.10/dist-packages (from requests-oauthlib>=0.7.0->google-auth-oauthlib<1.1,>=0.5->tensorboard>=2.4.1->ultralytics==8.0.3) (3.2.2)\n",
            "Building wheels for collected packages: antlr4-python3-runtime\n",
            "  Building wheel for antlr4-python3-runtime (setup.py) ... \u001b[?25l\u001b[?25hdone\n",
            "  Created wheel for antlr4-python3-runtime: filename=antlr4_python3_runtime-4.9.3-py3-none-any.whl size=144554 sha256=200e131496b8606bff408b2b1c4f7999dfc592ccf2ff5c1e01e4bfc5bcd27caf\n",
            "  Stored in directory: /root/.cache/pip/wheels/12/93/dd/1f6a127edc45659556564c5730f6d4e300888f4bca2d4c5a88\n",
            "Successfully built antlr4-python3-runtime\n",
            "Installing collected packages: antlr4-python3-runtime, watchdog, smmap, pyyaml-env-tag, omegaconf, mkdocs-material-extensions, mergedeep, markdown, jedi, coverage, colorama, pymdown-extensions, hydra-core, griffe, gitdb, ghp-import, pytest-cov, mkdocs, GitPython, check-manifest, mkdocs-material, mkdocs-autorefs, mkdocstrings, mkdocstrings-python, thop, ultralytics\n",
            "  Attempting uninstall: markdown\n",
            "    Found existing installation: Markdown 3.4.3\n",
            "    Uninstalling Markdown-3.4.3:\n",
            "      Successfully uninstalled Markdown-3.4.3\n",
            "  Running setup.py develop for ultralytics\n",
            "Successfully installed GitPython-3.1.31 antlr4-python3-runtime-4.9.3 check-manifest-0.49 colorama-0.4.6 coverage-7.2.5 ghp-import-2.1.0 gitdb-4.0.10 griffe-0.28.1 hydra-core-1.3.2 jedi-0.18.2 markdown-3.3.7 mergedeep-1.3.4 mkdocs-1.4.3 mkdocs-autorefs-0.4.1 mkdocs-material-9.1.14 mkdocs-material-extensions-1.1.1 mkdocstrings-0.21.2 mkdocstrings-python-1.0.0 omegaconf-2.3.0 pymdown-extensions-10.0.1 pytest-cov-4.0.0 pyyaml-env-tag-0.1 smmap-5.0.0 thop-0.1.1.post2209072238 ultralytics-8.0.3 watchdog-3.0.0\n"
          ]
        },
        {
          "output_type": "display_data",
          "data": {
            "application/vnd.colab-display-data+json": {
              "pip_warning": {
                "packages": [
                  "pydevd_plugins"
                ]
              }
            }
          },
          "metadata": {}
        }
      ],
      "source": [
        "#Install requirements for yolo\n",
        "%cd /content/Vision-and-AI-based-fish-tracker/YOLOv8-DeepSORT-FishTracking-main\n",
        "!pip install -e '.[dev]'"
      ]
    },
    {
      "cell_type": "code",
      "source": [
        "#Get Deepsort\n",
        "%cd /content/Vision-and-AI-based-fish-tracker/YOLOv8-DeepSORT-FishTracking-main/ultralytics/yolo/v8/detect\n",
        "!gdown \"https://drive.google.com/uc?id=11ZSZcG-bcbueXZC3rN08CM0qqX3eiHxf&confirm=t\"\n",
        "!unzip 'deep_sort_pytorch.zip'"
      ],
      "metadata": {
        "id": "qMVIXflEhffp",
        "outputId": "c60125a4-4311-4e4e-d8b0-af269e3a8b65",
        "colab": {
          "base_uri": "https://localhost:8080/"
        }
      },
      "execution_count": 6,
      "outputs": [
        {
          "output_type": "stream",
          "name": "stdout",
          "text": [
            "/content/Vision-and-AI-based-fish-tracker/YOLOv8-DeepSORT-FishTracking-main/ultralytics/yolo/v8/detect\n",
            "Downloading...\n",
            "From: https://drive.google.com/uc?id=11ZSZcG-bcbueXZC3rN08CM0qqX3eiHxf&confirm=t\n",
            "To: /content/Vision-and-AI-based-fish-tracker/YOLOv8-DeepSORT-FishTracking-main/ultralytics/yolo/v8/detect/deep_sort_pytorch.zip\n",
            "100% 43.1M/43.1M [00:00<00:00, 204MB/s]\n",
            "Archive:  deep_sort_pytorch.zip\n",
            "  inflating: deep_sort_pytorch/.gitignore  \n",
            "   creating: deep_sort_pytorch/configs/\n",
            "  inflating: deep_sort_pytorch/configs/deep_sort.yaml  \n",
            "   creating: deep_sort_pytorch/deep_sort/\n",
            "  inflating: deep_sort_pytorch/deep_sort/__init__.py  \n",
            "   creating: deep_sort_pytorch/deep_sort/__pycache__/\n",
            "  inflating: deep_sort_pytorch/deep_sort/__pycache__/__init__.cpython-310.pyc  \n",
            "  inflating: deep_sort_pytorch/deep_sort/__pycache__/__init__.cpython-37.pyc  \n",
            "  inflating: deep_sort_pytorch/deep_sort/__pycache__/__init__.cpython-38.pyc  \n",
            "  inflating: deep_sort_pytorch/deep_sort/__pycache__/deep_sort.cpython-310.pyc  \n",
            "  inflating: deep_sort_pytorch/deep_sort/__pycache__/deep_sort.cpython-37.pyc  \n",
            "  inflating: deep_sort_pytorch/deep_sort/__pycache__/deep_sort.cpython-38.pyc  \n",
            "   creating: deep_sort_pytorch/deep_sort/deep/\n",
            " extracting: deep_sort_pytorch/deep_sort/deep/__init__.py  \n",
            "   creating: deep_sort_pytorch/deep_sort/deep/__pycache__/\n",
            "  inflating: deep_sort_pytorch/deep_sort/deep/__pycache__/__init__.cpython-310.pyc  \n",
            "  inflating: deep_sort_pytorch/deep_sort/deep/__pycache__/__init__.cpython-37.pyc  \n",
            "  inflating: deep_sort_pytorch/deep_sort/deep/__pycache__/__init__.cpython-38.pyc  \n",
            "  inflating: deep_sort_pytorch/deep_sort/deep/__pycache__/feature_extractor.cpython-310.pyc  \n",
            "  inflating: deep_sort_pytorch/deep_sort/deep/__pycache__/feature_extractor.cpython-37.pyc  \n",
            "  inflating: deep_sort_pytorch/deep_sort/deep/__pycache__/feature_extractor.cpython-38.pyc  \n",
            "  inflating: deep_sort_pytorch/deep_sort/deep/__pycache__/model.cpython-310.pyc  \n",
            "  inflating: deep_sort_pytorch/deep_sort/deep/__pycache__/model.cpython-37.pyc  \n",
            "  inflating: deep_sort_pytorch/deep_sort/deep/__pycache__/model.cpython-38.pyc  \n",
            "   creating: deep_sort_pytorch/deep_sort/deep/checkpoint/\n",
            " extracting: deep_sort_pytorch/deep_sort/deep/checkpoint/.gitkeep  \n",
            "  inflating: deep_sort_pytorch/deep_sort/deep/checkpoint/ckpt.t7  \n",
            "  inflating: deep_sort_pytorch/deep_sort/deep/evaluate.py  \n",
            "  inflating: deep_sort_pytorch/deep_sort/deep/feature_extractor.py  \n",
            "  inflating: deep_sort_pytorch/deep_sort/deep/model.py  \n",
            "  inflating: deep_sort_pytorch/deep_sort/deep/original_model.py  \n",
            "  inflating: deep_sort_pytorch/deep_sort/deep/test.py  \n",
            "  inflating: deep_sort_pytorch/deep_sort/deep/train.jpg  \n",
            "  inflating: deep_sort_pytorch/deep_sort/deep/train.py  \n",
            "  inflating: deep_sort_pytorch/deep_sort/deep_sort.py  \n",
            "  inflating: deep_sort_pytorch/deep_sort/README.md  \n",
            "   creating: deep_sort_pytorch/deep_sort/sort - Copy/\n",
            " extracting: deep_sort_pytorch/deep_sort/sort - Copy/__init__.py  \n",
            "   creating: deep_sort_pytorch/deep_sort/sort - Copy/__pycache__/\n",
            "  inflating: deep_sort_pytorch/deep_sort/sort - Copy/__pycache__/__init__.cpython-37.pyc  \n",
            "  inflating: deep_sort_pytorch/deep_sort/sort - Copy/__pycache__/__init__.cpython-38.pyc  \n",
            "  inflating: deep_sort_pytorch/deep_sort/sort - Copy/__pycache__/detection.cpython-37.pyc  \n",
            "  inflating: deep_sort_pytorch/deep_sort/sort - Copy/__pycache__/detection.cpython-38.pyc  \n",
            "  inflating: deep_sort_pytorch/deep_sort/sort - Copy/__pycache__/iou_matching.cpython-37.pyc  \n",
            "  inflating: deep_sort_pytorch/deep_sort/sort - Copy/__pycache__/iou_matching.cpython-38.pyc  \n",
            "  inflating: deep_sort_pytorch/deep_sort/sort - Copy/__pycache__/kalman_filter.cpython-37.pyc  \n",
            "  inflating: deep_sort_pytorch/deep_sort/sort - Copy/__pycache__/kalman_filter.cpython-38.pyc  \n",
            "  inflating: deep_sort_pytorch/deep_sort/sort - Copy/__pycache__/linear_assignment.cpython-37.pyc  \n",
            "  inflating: deep_sort_pytorch/deep_sort/sort - Copy/__pycache__/linear_assignment.cpython-38.pyc  \n",
            "  inflating: deep_sort_pytorch/deep_sort/sort - Copy/__pycache__/nn_matching.cpython-37.pyc  \n",
            "  inflating: deep_sort_pytorch/deep_sort/sort - Copy/__pycache__/nn_matching.cpython-38.pyc  \n",
            "  inflating: deep_sort_pytorch/deep_sort/sort - Copy/__pycache__/track.cpython-37.pyc  \n",
            "  inflating: deep_sort_pytorch/deep_sort/sort - Copy/__pycache__/track.cpython-38.pyc  \n",
            "  inflating: deep_sort_pytorch/deep_sort/sort - Copy/__pycache__/tracker.cpython-37.pyc  \n",
            "  inflating: deep_sort_pytorch/deep_sort/sort - Copy/__pycache__/tracker.cpython-38.pyc  \n",
            "  inflating: deep_sort_pytorch/deep_sort/sort - Copy/iou_matching.py  \n",
            "  inflating: deep_sort_pytorch/deep_sort/sort - Copy/kalman_filter.py  \n",
            "  inflating: deep_sort_pytorch/deep_sort/sort - Copy/linear_assignment.py  \n",
            "  inflating: deep_sort_pytorch/deep_sort/sort - Copy/nn_matching.py  \n",
            "  inflating: deep_sort_pytorch/deep_sort/sort - Copy/preprocessing.py  \n",
            "   creating: deep_sort_pytorch/deep_sort/sort/\n",
            " extracting: deep_sort_pytorch/deep_sort/sort/__init__.py  \n",
            "   creating: deep_sort_pytorch/deep_sort/sort/__pycache__/\n",
            "  inflating: deep_sort_pytorch/deep_sort/sort/__pycache__/__init__.cpython-310.pyc  \n",
            "  inflating: deep_sort_pytorch/deep_sort/sort/__pycache__/__init__.cpython-37.pyc  \n",
            "  inflating: deep_sort_pytorch/deep_sort/sort/__pycache__/__init__.cpython-38.pyc  \n",
            "  inflating: deep_sort_pytorch/deep_sort/sort/__pycache__/detection.cpython-310.pyc  \n",
            "  inflating: deep_sort_pytorch/deep_sort/sort/__pycache__/detection.cpython-37.pyc  \n",
            "  inflating: deep_sort_pytorch/deep_sort/sort/__pycache__/detection.cpython-38.pyc  \n",
            "  inflating: deep_sort_pytorch/deep_sort/sort/__pycache__/iou_matching.cpython-310.pyc  \n",
            "  inflating: deep_sort_pytorch/deep_sort/sort/__pycache__/iou_matching.cpython-37.pyc  \n",
            "  inflating: deep_sort_pytorch/deep_sort/sort/__pycache__/iou_matching.cpython-38.pyc  \n",
            "  inflating: deep_sort_pytorch/deep_sort/sort/__pycache__/kalman_filter.cpython-310.pyc  \n",
            "  inflating: deep_sort_pytorch/deep_sort/sort/__pycache__/kalman_filter.cpython-37.pyc  \n",
            "  inflating: deep_sort_pytorch/deep_sort/sort/__pycache__/kalman_filter.cpython-38.pyc  \n",
            "  inflating: deep_sort_pytorch/deep_sort/sort/__pycache__/linear_assignment.cpython-310.pyc  \n",
            "  inflating: deep_sort_pytorch/deep_sort/sort/__pycache__/linear_assignment.cpython-37.pyc  \n",
            "  inflating: deep_sort_pytorch/deep_sort/sort/__pycache__/linear_assignment.cpython-38.pyc  \n",
            "  inflating: deep_sort_pytorch/deep_sort/sort/__pycache__/nn_matching.cpython-310.pyc  \n",
            "  inflating: deep_sort_pytorch/deep_sort/sort/__pycache__/nn_matching.cpython-37.pyc  \n",
            "  inflating: deep_sort_pytorch/deep_sort/sort/__pycache__/nn_matching.cpython-38.pyc  \n",
            "  inflating: deep_sort_pytorch/deep_sort/sort/__pycache__/track.cpython-310.pyc  \n",
            "  inflating: deep_sort_pytorch/deep_sort/sort/__pycache__/track.cpython-37.pyc  \n",
            "  inflating: deep_sort_pytorch/deep_sort/sort/__pycache__/track.cpython-38.pyc  \n",
            "  inflating: deep_sort_pytorch/deep_sort/sort/__pycache__/tracker.cpython-310.pyc  \n",
            "  inflating: deep_sort_pytorch/deep_sort/sort/__pycache__/tracker.cpython-37.pyc  \n",
            "  inflating: deep_sort_pytorch/deep_sort/sort/__pycache__/tracker.cpython-38.pyc  \n",
            "  inflating: deep_sort_pytorch/deep_sort/sort/detection.py  \n",
            "  inflating: deep_sort_pytorch/deep_sort/sort/iou_matching.py  \n",
            "  inflating: deep_sort_pytorch/deep_sort/sort/kalman_filter.py  \n",
            "  inflating: deep_sort_pytorch/deep_sort/sort/linear_assignment.py  \n",
            "  inflating: deep_sort_pytorch/deep_sort/sort/nn_matching.py  \n",
            "  inflating: deep_sort_pytorch/deep_sort/sort/preprocessing.py  \n",
            "  inflating: deep_sort_pytorch/deep_sort/sort/track.py  \n",
            "  inflating: deep_sort_pytorch/deep_sort/sort/tracker.py  \n",
            "  inflating: deep_sort_pytorch/LICENSE  \n",
            "  inflating: deep_sort_pytorch/README.md  \n",
            "   creating: deep_sort_pytorch/utils/\n",
            " extracting: deep_sort_pytorch/utils/__init__.py  \n",
            "   creating: deep_sort_pytorch/utils/__pycache__/\n",
            "  inflating: deep_sort_pytorch/utils/__pycache__/__init__.cpython-310.pyc  \n",
            "  inflating: deep_sort_pytorch/utils/__pycache__/__init__.cpython-37.pyc  \n",
            "  inflating: deep_sort_pytorch/utils/__pycache__/__init__.cpython-38.pyc  \n",
            "  inflating: deep_sort_pytorch/utils/__pycache__/parser.cpython-310.pyc  \n",
            "  inflating: deep_sort_pytorch/utils/__pycache__/parser.cpython-37.pyc  \n",
            "  inflating: deep_sort_pytorch/utils/__pycache__/parser.cpython-38.pyc  \n",
            "  inflating: deep_sort_pytorch/utils/asserts.py  \n",
            "  inflating: deep_sort_pytorch/utils/draw.py  \n",
            "  inflating: deep_sort_pytorch/utils/evaluation.py  \n",
            "  inflating: deep_sort_pytorch/utils/io.py  \n",
            "  inflating: deep_sort_pytorch/utils/json_logger.py  \n",
            "  inflating: deep_sort_pytorch/utils/log.py  \n",
            "  inflating: deep_sort_pytorch/utils/parser.py  \n",
            "  inflating: deep_sort_pytorch/utils/tools.py  \n"
          ]
        }
      ]
    },
    {
      "cell_type": "markdown",
      "source": [
        "# Using the algorithm on your video"
      ],
      "metadata": {
        "id": "qZ7wvDnThJQQ"
      }
    },
    {
      "cell_type": "code",
      "source": [
        "#Get the weights of our model and the test video from google drive\n",
        "%cd '/content/'\n",
        "!gdown --folder \"https://drive.google.com/drive/folders/1cxcWREyk_D4bV58mD-XWOjw4h3t1OOEe?usp=sharing\""
      ],
      "metadata": {
        "id": "B6H4HlDTkCOr",
        "outputId": "2006a364-02ce-4b4f-84c1-e3c63022acc5",
        "colab": {
          "base_uri": "https://localhost:8080/"
        }
      },
      "execution_count": 20,
      "outputs": [
        {
          "output_type": "stream",
          "name": "stdout",
          "text": [
            "/content\n",
            "Retrieving folder list\n",
            "Retrieving folder 1xpyfrE42YaSlYESIXgVXJSKTA5D9teYo Video_input\n",
            "Processing file 1Ik2Z3xAeNO17037Nh8BETK8K7-5ynqrD test.mp4\n",
            "Retrieving folder 1Y55-56yQbcMhdmzYIsFl6c5VLjEdvnG4 Video_ouput\n",
            "Processing file 1TR6YmKCF48LppRy8mAlHj4e1FIbDaPlK test_deepsort.mp4\n",
            "Retrieving folder 1VnIEs2hMRaJ7VSaFUpeB2RY_QJiZjGrL weights\n",
            "Processing file 1qcPyjyA8HTSovQOcN-xtSV9fI892IPE- best.pt\n",
            "Retrieving folder list completed\n",
            "Building directory structure\n",
            "Building directory structure completed\n",
            "Downloading...\n",
            "From: https://drive.google.com/uc?id=1Ik2Z3xAeNO17037Nh8BETK8K7-5ynqrD\n",
            "To: /content/Deepsort_2023/Video_input/test.mp4\n",
            "100% 65.9M/65.9M [00:04<00:00, 15.5MB/s]\n",
            "Downloading...\n",
            "From: https://drive.google.com/uc?id=1TR6YmKCF48LppRy8mAlHj4e1FIbDaPlK\n",
            "To: /content/Deepsort_2023/Video_ouput/test_deepsort.mp4\n",
            "100% 340M/340M [00:01<00:00, 206MB/s]\n",
            "Downloading...\n",
            "From: https://drive.google.com/uc?id=1qcPyjyA8HTSovQOcN-xtSV9fI892IPE-\n",
            "To: /content/Deepsort_2023/weights/best.pt\n",
            "100% 137M/137M [00:01<00:00, 80.3MB/s]\n",
            "Download completed\n"
          ]
        }
      ]
    },
    {
      "cell_type": "markdown",
      "source": [
        "If you want, you can put your video in Deepsort_2023/video_input/\n",
        "\n",
        "You just have to change the 'test.mp4' in the following command by the name of your video"
      ],
      "metadata": {
        "id": "PUr1Qxg_meIT"
      }
    },
    {
      "cell_type": "code",
      "source": [
        "video_name = 'test.mp4'\n",
        "video_path =  '/content/Deepsort_2023/Video_input/'+ video_name"
      ],
      "metadata": {
        "id": "36xYZsThuz7p"
      },
      "execution_count": 28,
      "outputs": []
    },
    {
      "cell_type": "code",
      "source": [
        "%cd '/content/Vision-and-AI-based-fish-tracker/YOLOv8-DeepSORT-FishTracking-main/ultralytics/yolo/v8/detect'\n",
        "!python predict.py model=/content/Deepsort_2023/weights/best.pt conf=0.3 source=video_path"
      ],
      "metadata": {
        "id": "ke2P9Y_Ui0kT",
        "outputId": "01e982ec-b758-44c0-db76-7ee35ec5e430",
        "colab": {
          "base_uri": "https://localhost:8080/"
        }
      },
      "execution_count": 24,
      "outputs": [
        {
          "output_type": "stream",
          "name": "stdout",
          "text": [
            "/content/Vision-and-AI-based-fish-tracker/YOLOv8-DeepSORT-FishTracking-main/ultralytics/yolo/v8/detect\n",
            "[2023-05-23 22:19:28,329][root.tracker][INFO] - Loading weights from deep_sort_pytorch/deep_sort/deep/checkpoint/ckpt.t7... Done!\n",
            "2023-05-23 22:19:28.711756: I tensorflow/core/platform/cpu_feature_guard.cc:182] This TensorFlow binary is optimized to use available CPU instructions in performance-critical operations.\n",
            "To enable the following instructions: AVX2 FMA, in other operations, rebuild TensorFlow with the appropriate compiler flags.\n",
            "2023-05-23 22:19:29.957065: W tensorflow/compiler/tf2tensorrt/utils/py_utils.cc:38] TF-TRT Warning: Could not find TensorRT\n",
            "Ultralytics YOLOv8.0.3 🚀 Python-3.10.11 torch-2.0.1+cu118 CPU\n",
            "Fusing layers... \n",
            "Model summary: 268 layers, 68124531 parameters, 0 gradients, 257.4 GFLOPs\n",
            "video 1/1 (1/2416) /content/Deepsort_2023/Video_input/test.mp4: 480x640 7 Fishs, 4130.6ms\n",
            "video 1/1 (2/2416) /content/Deepsort_2023/Video_input/test.mp4: 480x640 9 Fishs, 3249.8ms\n",
            "video 1/1 (3/2416) /content/Deepsort_2023/Video_input/test.mp4: 480x640 7 Fishs, 2978.5ms\n",
            "video 1/1 (4/2416) /content/Deepsort_2023/Video_input/test.mp4: 480x640 11 Fishs, 2980.6ms\n",
            "video 1/1 (5/2416) /content/Deepsort_2023/Video_input/test.mp4: 480x640 12 Fishs, 4160.0ms\n",
            "video 1/1 (6/2416) /content/Deepsort_2023/Video_input/test.mp4: 480x640 10 Fishs, 2882.9ms\n",
            "video 1/1 (7/2416) /content/Deepsort_2023/Video_input/test.mp4: 480x640 9 Fishs, 2935.5ms\n",
            "video 1/1 (8/2416) /content/Deepsort_2023/Video_input/test.mp4: 480x640 7 Fishs, 4138.1ms\n",
            "video 1/1 (9/2416) /content/Deepsort_2023/Video_input/test.mp4: 480x640 7 Fishs, 3012.2ms\n",
            "video 1/1 (10/2416) /content/Deepsort_2023/Video_input/test.mp4: 480x640 8 Fishs, 2989.5ms\n",
            "video 1/1 (11/2416) /content/Deepsort_2023/Video_input/test.mp4: 480x640 6 Fishs, 2989.9ms\n",
            "video 1/1 (12/2416) /content/Deepsort_2023/Video_input/test.mp4: 480x640 7 Fishs, 4311.2ms\n",
            "video 1/1 (13/2416) /content/Deepsort_2023/Video_input/test.mp4: 480x640 6 Fishs, 2977.1ms\n",
            "Signal received. 2 <frame at 0xc7576b0, file '/usr/local/lib/python3.10/dist-packages/torch/nn/modules/conv.py', line 459, code _conv_forward>\n"
          ]
        }
      ]
    },
    {
      "cell_type": "markdown",
      "source": [
        "In the next line, change the 'train3' by the name of the folder indicated by the console just above"
      ],
      "metadata": {
        "id": "-nkfGYiTutap"
      }
    },
    {
      "cell_type": "code",
      "source": [
        "result_location = '/content/Vision-and-AI-based-fish-tracker/runs/detect/train3/' + video_name\n",
        "new_location = '/content/Deepsort_2023/Video_output/' + video_name\n",
        "os.rename(result_location, new_location)"
      ],
      "metadata": {
        "id": "GRMOprNguP3u"
      },
      "execution_count": 30,
      "outputs": []
    },
    {
      "cell_type": "markdown",
      "source": [
        "You can then download your video in Deepsort_2023/video_output/"
      ],
      "metadata": {
        "id": "q6XZbmo6mwal"
      }
    }
  ]
}