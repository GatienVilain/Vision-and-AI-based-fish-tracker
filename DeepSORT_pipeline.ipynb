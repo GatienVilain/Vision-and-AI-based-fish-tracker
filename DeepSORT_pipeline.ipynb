{
  "nbformat": 4,
  "nbformat_minor": 0,
  "metadata": {
    "colab": {
      "provenance": [],
      "authorship_tag": "ABX9TyPQiATRA+8/64vmBaFbJ6Vs",
      "include_colab_link": true
    },
    "kernelspec": {
      "name": "python3",
      "display_name": "Python 3"
    },
    "language_info": {
      "name": "python"
    }
  },
  "cells": [
    {
      "cell_type": "markdown",
      "metadata": {
        "id": "view-in-github",
        "colab_type": "text"
      },
      "source": [
        "<a href=\"https://colab.research.google.com/github/GatienVilain/Vision-and-AI-based-fish-tracker/blob/DeepSORT/DeepSORT_pipeline.ipynb\" target=\"_parent\"><img src=\"https://colab.research.google.com/assets/colab-badge.svg\" alt=\"Open In Colab\"/></a>"
      ]
    },
    {
      "cell_type": "markdown",
      "source": [
        "# Importing the requiered Librairies and installing requirements"
      ],
      "metadata": {
        "id": "TuI61LDbgc_r"
      }
    },
    {
      "cell_type": "code",
      "source": [
        "import glob\n",
        "import os\n",
        "HOME=os.getcwd()\n",
        "from IPython.display import Image,display"
      ],
      "metadata": {
        "id": "1l1MRfX6gfQ_"
      },
      "execution_count": null,
      "outputs": []
    },
    {
      "cell_type": "code",
      "source": [
        "#clone the repository\n",
        "!git clone -b DeepSORT https://github.com/GatienVilain/Vision-and-AI-based-fish-tracker.git "
      ],
      "metadata": {
        "id": "DNhyjSDAgqza"
      },
      "execution_count": null,
      "outputs": []
    },
    {
      "cell_type": "code",
      "execution_count": null,
      "metadata": {
        "id": "7upMbLq1gQTY"
      },
      "outputs": [],
      "source": [
        "#Install requirements for yolo\n",
        "%cd /content/FishTracking/YOLOv8-DeepSORT-FishTracking-main\n",
        "!pip install -e '.[dev]'"
      ]
    },
    {
      "cell_type": "code",
      "source": [
        "#Get Deepsort\n",
        "%cd /content/FishTracking/YOLOv8-DeepSORT-FishTracking-main/ultralytics/yolo/v8/detect\n",
        "!gdown \"https://drive.google.com/uc?id=11ZSZcG-bcbueXZC3rN08CM0qqX3eiHxf&confirm=t\"\n",
        "!unzip 'deep_sort_pytorch.zip'"
      ],
      "metadata": {
        "id": "qMVIXflEhffp"
      },
      "execution_count": null,
      "outputs": []
    },
    {
      "cell_type": "markdown",
      "source": [
        "# Using the algorithm on your video"
      ],
      "metadata": {
        "id": "qZ7wvDnThJQQ"
      }
    },
    {
      "cell_type": "code",
      "source": [
        "HOME = '/content/FishTracking/YOLOv8-DeepSORT-FishTracking-main/'"
      ],
      "metadata": {
        "id": "h5DNxBI5gXyt"
      },
      "execution_count": null,
      "outputs": []
    },
    {
      "cell_type": "code",
      "source": [
        "%cd {HOME}"
      ],
      "metadata": {
        "id": "YUpHV_nEimxZ"
      },
      "execution_count": null,
      "outputs": []
    },
    {
      "cell_type": "code",
      "source": [
        "#Get the weights and the test video on the drive veryhappytruite\n",
        "!gdown \"https://drive.google.com/drive/folders/1cxcWREyk_D4bV58mD-XWOjw4h3t1OOEe?usp=sharing\"\n",
        "!unzip 'deepsort_2023.zip'"
      ],
      "metadata": {
        "id": "B6H4HlDTkCOr"
      },
      "execution_count": null,
      "outputs": []
    },
    {
      "cell_type": "markdown",
      "source": [
        "You can put your video in content/FishTracking/YOLOv8-DeepSORT-FishTracking-main/video_input/\n",
        "\n",
        "You just have to change the 'test.mp4' in the following command by the name of your video"
      ],
      "metadata": {
        "id": "PUr1Qxg_meIT"
      }
    },
    {
      "cell_type": "code",
      "source": [
        "!python predict.py model=/content/FishTracking/weights/best.pt conf=0.3 source='/content/video_input/test.mp4'"
      ],
      "metadata": {
        "id": "ke2P9Y_Ui0kT"
      },
      "execution_count": null,
      "outputs": []
    },
    {
      "cell_type": "markdown",
      "source": [
        "You can then download your video in content/FishTracking/YOLOv8-DeepSORT-FishTracking-main/video_output/\n",
        "\n",
        "or you can use the following code to directly see it"
      ],
      "metadata": {
        "id": "q6XZbmo6mwal"
      }
    },
    {
      "cell_type": "markdown",
      "metadata": {
        "id": "_dxVUUR--X9I"
      },
      "source": [
        "display the demo video"
      ]
    },
    {
      "cell_type": "code",
      "execution_count": null,
      "metadata": {
        "id": "A5u8hsEK-a4h"
      },
      "outputs": [],
      "source": [
        "from IPython.display import HTML\n",
        "from base64 import b64encode\n",
        "import os\n",
        "\n",
        "#Input video path\n",
        "save_path='/content/runs/detect/predict/test1.mp4'\n",
        "\n",
        "# Compressed video path\n",
        "compressed_path=\"/content/result_compress.mp4\"\n",
        "\n",
        "os.system(f\"ffmpeg -i {save_path} -vcodec libx264 {compressed_path}\")\n",
        "\n",
        "#Show video\n",
        "mp4=open(compressed_path,'rb').read()\n",
        "data_url=\"data:video/mp4;base64,\"+b64encode(mp4).decode()\n",
        "HTML(\"\"\"\n",
        "<video width=400 controls>\n",
        "  <source src=\"%s\" type=\"video/mp4\">\n",
        "</video>\n",
        "\"\"\" % data_url)"
      ]
    },
    {
      "cell_type": "code",
      "execution_count": null,
      "metadata": {
        "id": "9q8oIgi8D-nT"
      },
      "outputs": [],
      "source": [
        "%cd {HOME}\n",
        "!yolo task=detect mode=predict model={HOME}/runs/detect/train2/weights/best.pt conf=0.4 source='/content/videos/test2.mp4'"
      ]
    },
    {
      "cell_type": "code",
      "execution_count": null,
      "metadata": {
        "id": "Fc9AobEGEOKc"
      },
      "outputs": [],
      "source": [
        "from IPython.display import HTML\n",
        "from base64 import b64encode\n",
        "import os\n",
        "\n",
        "#Input video path\n",
        "save_path='/content/runs/detect/predict2/test2.mp4'\n",
        "\n",
        "# Compressed video path\n",
        "compressed_path=\"/content/result_compress1.mp4\"\n",
        "\n",
        "os.system(f\"ffmpeg -i {save_path} -vcodec libx264 {compressed_path}\")\n",
        "\n",
        "#Show video\n",
        "mp4=open(compressed_path,'rb').read()\n",
        "data_url=\"data:video/mp4;base64,\"+b64encode(mp4).decode()\n",
        "HTML(\"\"\"\n",
        "<video width=400 controls>\n",
        "  <source src=\"%s\" type=\"video/mp4\">\n",
        "</video>\n",
        "\"\"\" % data_url)"
      ]
    }
  ]
}