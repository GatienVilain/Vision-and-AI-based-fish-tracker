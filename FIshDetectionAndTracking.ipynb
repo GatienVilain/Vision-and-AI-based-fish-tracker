{
  "cells": [
    {
      "cell_type": "markdown",
      "metadata": {
        "id": "view-in-github",
        "colab_type": "text"
      },
      "source": [
        "<a href=\"https://colab.research.google.com/github/Sushiman31/FishTracking/blob/main/FIshDetectionAndTracking.ipynb\" target=\"_parent\"><img src=\"https://colab.research.google.com/assets/colab-badge.svg\" alt=\"Open In Colab\"/></a>"
      ]
    },
    {
      "cell_type": "markdown",
      "source": [
        "# Before Running the Script Please Make Sure you Select the Run Time as GPU\n"
      ],
      "metadata": {
        "id": "Q6yfmHBwCgD0"
      }
    },
    {
      "cell_type": "code",
      "execution_count": null,
      "metadata": {
        "colab": {
          "base_uri": "https://localhost:8080/"
        },
        "id": "o4b17mUCt9gs",
        "outputId": "cc51acea-61fa-4309-f63c-76f41e3f8376"
      },
      "outputs": [
        {
          "output_type": "stream",
          "name": "stdout",
          "text": [
            "Mounted at /content/gdrive/\n"
          ]
        }
      ],
      "source": [
        "from google.colab import drive\n",
        "drive.mount('/content/gdrive/')"
      ]
    },
    {
      "cell_type": "markdown",
      "source": [
        "# Importing the requiered Librairies"
      ],
      "metadata": {
        "id": "-CbqxnGoDA1y"
      }
    },
    {
      "cell_type": "code",
      "source": [
        "import glob"
      ],
      "metadata": {
        "id": "mfeDlfpWCw7c"
      },
      "execution_count": null,
      "outputs": []
    },
    {
      "cell_type": "code",
      "source": [
        "import os"
      ],
      "metadata": {
        "id": "vhNnRpt8Cwx9"
      },
      "execution_count": null,
      "outputs": []
    },
    {
      "cell_type": "code",
      "source": [
        "HOME=os.getcwd()"
      ],
      "metadata": {
        "id": "KeeG4LvjCwoJ"
      },
      "execution_count": null,
      "outputs": []
    },
    {
      "cell_type": "code",
      "source": [
        "print(HOME)"
      ],
      "metadata": {
        "colab": {
          "base_uri": "https://localhost:8080/"
        },
        "id": "V-JMx_jiC190",
        "outputId": "6ded6d82-850b-4ad7-ecf5-83f8b30905e1"
      },
      "execution_count": null,
      "outputs": [
        {
          "output_type": "stream",
          "name": "stdout",
          "text": [
            "/content\n"
          ]
        }
      ]
    },
    {
      "cell_type": "code",
      "execution_count": null,
      "metadata": {
        "id": "rzCbDJ6DucPC"
      },
      "outputs": [],
      "source": [
        "from IPython.display import Image,display"
      ]
    },
    {
      "cell_type": "markdown",
      "source": [
        "#Download Yolo Model"
      ],
      "metadata": {
        "id": "kEdGT3s0DIdk"
      }
    },
    {
      "cell_type": "code",
      "source": [
        "# click to this link , download the file and put it on your notebook https://drive.google.com/file/d/1Tj9Dz-voAHyC8kal4WdeJ062kUHhn0cc/view?usp=sharing"
      ],
      "metadata": {
        "id": "-ZCsaHlUNxcd"
      },
      "execution_count": null,
      "outputs": []
    },
    {
      "cell_type": "code",
      "source": [
        "!unzip 'YOLOv8-DeepSORT-FishTracking-main'"
      ],
      "metadata": {
        "colab": {
          "base_uri": "https://localhost:8080/"
        },
        "id": "Kydqi74hWrmQ",
        "outputId": "4ee20944-0840-4fe5-abe7-b3eade6a50b4"
      },
      "execution_count": null,
      "outputs": [
        {
          "output_type": "stream",
          "name": "stdout",
          "text": [
            "Archive:  YOLOv8-DeepSORT-FishTracking-main.zip\n",
            "  inflating: YOLOv8-DeepSORT-FishTracking-main/.gitignore  \n",
            "  inflating: YOLOv8-DeepSORT-FishTracking-main/.pre-commit-config.yaml  \n",
            "  inflating: YOLOv8-DeepSORT-FishTracking-main/CONTRIBUTING.md  \n",
            "   creating: YOLOv8-DeepSORT-FishTracking-main/figure/\n",
            "  inflating: YOLOv8-DeepSORT-FishTracking-main/figure/figure1.png  \n",
            "  inflating: YOLOv8-DeepSORT-FishTracking-main/figure/figure2.png  \n",
            "  inflating: YOLOv8-DeepSORT-FishTracking-main/figure/figure3.png  \n",
            "  inflating: YOLOv8-DeepSORT-FishTracking-main/MANIFEST.in  \n",
            "  inflating: YOLOv8-DeepSORT-FishTracking-main/mkdocs.yml  \n",
            "  inflating: YOLOv8-DeepSORT-FishTracking-main/README.md  \n",
            "  inflating: YOLOv8-DeepSORT-FishTracking-main/requirements.txt  \n",
            "  inflating: YOLOv8-DeepSORT-FishTracking-main/setup.cfg  \n",
            "  inflating: YOLOv8-DeepSORT-FishTracking-main/setup.py  \n",
            "   creating: YOLOv8-DeepSORT-FishTracking-main/ultralytics/\n",
            "  inflating: YOLOv8-DeepSORT-FishTracking-main/ultralytics/__init__.py  \n",
            "   creating: YOLOv8-DeepSORT-FishTracking-main/ultralytics/hub/\n",
            "  inflating: YOLOv8-DeepSORT-FishTracking-main/ultralytics/hub/__init__.py  \n",
            "  inflating: YOLOv8-DeepSORT-FishTracking-main/ultralytics/hub/auth.py  \n",
            "  inflating: YOLOv8-DeepSORT-FishTracking-main/ultralytics/hub/session.py  \n",
            "  inflating: YOLOv8-DeepSORT-FishTracking-main/ultralytics/hub/utils.py  \n",
            "   creating: YOLOv8-DeepSORT-FishTracking-main/ultralytics/models/\n",
            "  inflating: YOLOv8-DeepSORT-FishTracking-main/ultralytics/models/README.md  \n",
            "   creating: YOLOv8-DeepSORT-FishTracking-main/ultralytics/models/v3/\n",
            "  inflating: YOLOv8-DeepSORT-FishTracking-main/ultralytics/models/v3/yolov3.yaml  \n",
            "  inflating: YOLOv8-DeepSORT-FishTracking-main/ultralytics/models/v3/yolov3-spp.yaml  \n",
            "  inflating: YOLOv8-DeepSORT-FishTracking-main/ultralytics/models/v3/yolov3-tiny.yaml  \n",
            "   creating: YOLOv8-DeepSORT-FishTracking-main/ultralytics/models/v5/\n",
            "  inflating: YOLOv8-DeepSORT-FishTracking-main/ultralytics/models/v5/yolov5l.yaml  \n",
            "  inflating: YOLOv8-DeepSORT-FishTracking-main/ultralytics/models/v5/yolov5m.yaml  \n",
            "  inflating: YOLOv8-DeepSORT-FishTracking-main/ultralytics/models/v5/yolov5n.yaml  \n",
            "  inflating: YOLOv8-DeepSORT-FishTracking-main/ultralytics/models/v5/yolov5s.yaml  \n",
            "  inflating: YOLOv8-DeepSORT-FishTracking-main/ultralytics/models/v5/yolov5x.yaml  \n",
            "   creating: YOLOv8-DeepSORT-FishTracking-main/ultralytics/models/v8/\n",
            "   creating: YOLOv8-DeepSORT-FishTracking-main/ultralytics/models/v8/cls/\n",
            "  inflating: YOLOv8-DeepSORT-FishTracking-main/ultralytics/models/v8/cls/yolov8l-cls.yaml  \n",
            "  inflating: YOLOv8-DeepSORT-FishTracking-main/ultralytics/models/v8/cls/yolov8m-cls.yaml  \n",
            "  inflating: YOLOv8-DeepSORT-FishTracking-main/ultralytics/models/v8/cls/yolov8n-cls.yaml  \n",
            "  inflating: YOLOv8-DeepSORT-FishTracking-main/ultralytics/models/v8/cls/yolov8s-cls.yaml  \n",
            "  inflating: YOLOv8-DeepSORT-FishTracking-main/ultralytics/models/v8/cls/yolov8x-cls.yaml  \n",
            "   creating: YOLOv8-DeepSORT-FishTracking-main/ultralytics/models/v8/seg/\n",
            "  inflating: YOLOv8-DeepSORT-FishTracking-main/ultralytics/models/v8/seg/yolov8l-seg.yaml  \n",
            "  inflating: YOLOv8-DeepSORT-FishTracking-main/ultralytics/models/v8/seg/yolov8m-seg.yaml  \n",
            "  inflating: YOLOv8-DeepSORT-FishTracking-main/ultralytics/models/v8/seg/yolov8n-seg.yaml  \n",
            "  inflating: YOLOv8-DeepSORT-FishTracking-main/ultralytics/models/v8/seg/yolov8s-seg.yaml  \n",
            "  inflating: YOLOv8-DeepSORT-FishTracking-main/ultralytics/models/v8/seg/yolov8x-seg.yaml  \n",
            "  inflating: YOLOv8-DeepSORT-FishTracking-main/ultralytics/models/v8/yolov8l.yaml  \n",
            "  inflating: YOLOv8-DeepSORT-FishTracking-main/ultralytics/models/v8/yolov8m.yaml  \n",
            "  inflating: YOLOv8-DeepSORT-FishTracking-main/ultralytics/models/v8/yolov8n.yaml  \n",
            "  inflating: YOLOv8-DeepSORT-FishTracking-main/ultralytics/models/v8/yolov8s.yaml  \n",
            "  inflating: YOLOv8-DeepSORT-FishTracking-main/ultralytics/models/v8/yolov8x.yaml  \n",
            "  inflating: YOLOv8-DeepSORT-FishTracking-main/ultralytics/models/v8/yolov8x6.yaml  \n",
            "   creating: YOLOv8-DeepSORT-FishTracking-main/ultralytics/nn/\n",
            " extracting: YOLOv8-DeepSORT-FishTracking-main/ultralytics/nn/__init__.py  \n",
            "  inflating: YOLOv8-DeepSORT-FishTracking-main/ultralytics/nn/autobackend.py  \n",
            "  inflating: YOLOv8-DeepSORT-FishTracking-main/ultralytics/nn/modules.py  \n",
            "  inflating: YOLOv8-DeepSORT-FishTracking-main/ultralytics/nn/tasks.py  \n",
            "   creating: YOLOv8-DeepSORT-FishTracking-main/ultralytics/yolo/\n",
            "  inflating: YOLOv8-DeepSORT-FishTracking-main/ultralytics/yolo/cli.py  \n",
            "   creating: YOLOv8-DeepSORT-FishTracking-main/ultralytics/yolo/configs/\n",
            "  inflating: YOLOv8-DeepSORT-FishTracking-main/ultralytics/yolo/configs/__init__.py  \n",
            "  inflating: YOLOv8-DeepSORT-FishTracking-main/ultralytics/yolo/configs/default.yaml  \n",
            "  inflating: YOLOv8-DeepSORT-FishTracking-main/ultralytics/yolo/configs/hydra_patch.py  \n",
            "   creating: YOLOv8-DeepSORT-FishTracking-main/ultralytics/yolo/data/\n",
            "  inflating: YOLOv8-DeepSORT-FishTracking-main/ultralytics/yolo/data/__init__.py  \n",
            "  inflating: YOLOv8-DeepSORT-FishTracking-main/ultralytics/yolo/data/augment.py  \n",
            "  inflating: YOLOv8-DeepSORT-FishTracking-main/ultralytics/yolo/data/base.py  \n",
            "  inflating: YOLOv8-DeepSORT-FishTracking-main/ultralytics/yolo/data/build.py  \n",
            "   creating: YOLOv8-DeepSORT-FishTracking-main/ultralytics/yolo/data/dataloaders/\n",
            " extracting: YOLOv8-DeepSORT-FishTracking-main/ultralytics/yolo/data/dataloaders/__init__.py  \n",
            "  inflating: YOLOv8-DeepSORT-FishTracking-main/ultralytics/yolo/data/dataloaders/stream_loaders.py  \n",
            "  inflating: YOLOv8-DeepSORT-FishTracking-main/ultralytics/yolo/data/dataloaders/v5augmentations.py  \n",
            "  inflating: YOLOv8-DeepSORT-FishTracking-main/ultralytics/yolo/data/dataloaders/v5loader.py  \n",
            "  inflating: YOLOv8-DeepSORT-FishTracking-main/ultralytics/yolo/data/dataset.py  \n",
            "  inflating: YOLOv8-DeepSORT-FishTracking-main/ultralytics/yolo/data/dataset_wrappers.py  \n",
            "   creating: YOLOv8-DeepSORT-FishTracking-main/ultralytics/yolo/data/datasets/\n",
            "  inflating: YOLOv8-DeepSORT-FishTracking-main/ultralytics/yolo/data/datasets/Argoverse.yaml  \n",
            "  inflating: YOLOv8-DeepSORT-FishTracking-main/ultralytics/yolo/data/datasets/coco.yaml  \n",
            "  inflating: YOLOv8-DeepSORT-FishTracking-main/ultralytics/yolo/data/datasets/coco128.yaml  \n",
            "  inflating: YOLOv8-DeepSORT-FishTracking-main/ultralytics/yolo/data/datasets/coco128-seg.yaml  \n",
            "  inflating: YOLOv8-DeepSORT-FishTracking-main/ultralytics/yolo/data/datasets/GlobalWheat2020.yaml  \n",
            "  inflating: YOLOv8-DeepSORT-FishTracking-main/ultralytics/yolo/data/datasets/ImageNet.yaml  \n",
            "  inflating: YOLOv8-DeepSORT-FishTracking-main/ultralytics/yolo/data/datasets/Objects365.yaml  \n",
            "  inflating: YOLOv8-DeepSORT-FishTracking-main/ultralytics/yolo/data/datasets/SKU-110K.yaml  \n",
            "  inflating: YOLOv8-DeepSORT-FishTracking-main/ultralytics/yolo/data/datasets/VisDrone.yaml  \n",
            "  inflating: YOLOv8-DeepSORT-FishTracking-main/ultralytics/yolo/data/datasets/VOC.yaml  \n",
            "  inflating: YOLOv8-DeepSORT-FishTracking-main/ultralytics/yolo/data/datasets/xView.yaml  \n",
            "   creating: YOLOv8-DeepSORT-FishTracking-main/ultralytics/yolo/data/scripts/\n",
            "  inflating: YOLOv8-DeepSORT-FishTracking-main/ultralytics/yolo/data/scripts/download_weights.sh  \n",
            "  inflating: YOLOv8-DeepSORT-FishTracking-main/ultralytics/yolo/data/scripts/get_coco.sh  \n",
            "  inflating: YOLOv8-DeepSORT-FishTracking-main/ultralytics/yolo/data/scripts/get_coco128.sh  \n",
            "  inflating: YOLOv8-DeepSORT-FishTracking-main/ultralytics/yolo/data/scripts/get_imagenet.sh  \n",
            "  inflating: YOLOv8-DeepSORT-FishTracking-main/ultralytics/yolo/data/utils.py  \n",
            "   creating: YOLOv8-DeepSORT-FishTracking-main/ultralytics/yolo/engine/\n",
            " extracting: YOLOv8-DeepSORT-FishTracking-main/ultralytics/yolo/engine/__init__.py  \n",
            "  inflating: YOLOv8-DeepSORT-FishTracking-main/ultralytics/yolo/engine/exporter.py  \n",
            "  inflating: YOLOv8-DeepSORT-FishTracking-main/ultralytics/yolo/engine/model.py  \n",
            "  inflating: YOLOv8-DeepSORT-FishTracking-main/ultralytics/yolo/engine/predictor.py  \n",
            "  inflating: YOLOv8-DeepSORT-FishTracking-main/ultralytics/yolo/engine/trainer.py  \n",
            "  inflating: YOLOv8-DeepSORT-FishTracking-main/ultralytics/yolo/engine/validator.py  \n",
            "   creating: YOLOv8-DeepSORT-FishTracking-main/ultralytics/yolo/utils/\n",
            "  inflating: YOLOv8-DeepSORT-FishTracking-main/ultralytics/yolo/utils/__init__.py  \n",
            "  inflating: YOLOv8-DeepSORT-FishTracking-main/ultralytics/yolo/utils/autobatch.py  \n",
            "   creating: YOLOv8-DeepSORT-FishTracking-main/ultralytics/yolo/utils/callbacks/\n",
            "  inflating: YOLOv8-DeepSORT-FishTracking-main/ultralytics/yolo/utils/callbacks/__init__.py  \n",
            "  inflating: YOLOv8-DeepSORT-FishTracking-main/ultralytics/yolo/utils/callbacks/base.py  \n",
            "  inflating: YOLOv8-DeepSORT-FishTracking-main/ultralytics/yolo/utils/callbacks/clearml.py  \n",
            "  inflating: YOLOv8-DeepSORT-FishTracking-main/ultralytics/yolo/utils/callbacks/comet.py  \n",
            "  inflating: YOLOv8-DeepSORT-FishTracking-main/ultralytics/yolo/utils/callbacks/hub.py  \n",
            "  inflating: YOLOv8-DeepSORT-FishTracking-main/ultralytics/yolo/utils/callbacks/tensorboard.py  \n",
            "  inflating: YOLOv8-DeepSORT-FishTracking-main/ultralytics/yolo/utils/checks.py  \n",
            "  inflating: YOLOv8-DeepSORT-FishTracking-main/ultralytics/yolo/utils/dist.py  \n",
            "  inflating: YOLOv8-DeepSORT-FishTracking-main/ultralytics/yolo/utils/downloads.py  \n",
            "  inflating: YOLOv8-DeepSORT-FishTracking-main/ultralytics/yolo/utils/files.py  \n",
            "  inflating: YOLOv8-DeepSORT-FishTracking-main/ultralytics/yolo/utils/instance.py  \n",
            "  inflating: YOLOv8-DeepSORT-FishTracking-main/ultralytics/yolo/utils/loss.py  \n",
            "  inflating: YOLOv8-DeepSORT-FishTracking-main/ultralytics/yolo/utils/metrics.py  \n",
            "  inflating: YOLOv8-DeepSORT-FishTracking-main/ultralytics/yolo/utils/ops.py  \n",
            "  inflating: YOLOv8-DeepSORT-FishTracking-main/ultralytics/yolo/utils/plotting.py  \n",
            "  inflating: YOLOv8-DeepSORT-FishTracking-main/ultralytics/yolo/utils/tal.py  \n",
            "  inflating: YOLOv8-DeepSORT-FishTracking-main/ultralytics/yolo/utils/torch_utils.py  \n",
            "   creating: YOLOv8-DeepSORT-FishTracking-main/ultralytics/yolo/v8/\n",
            "   creating: YOLOv8-DeepSORT-FishTracking-main/ultralytics/yolo/v8/detect/\n",
            "  inflating: YOLOv8-DeepSORT-FishTracking-main/ultralytics/yolo/v8/detect/__init__.py  \n",
            "  inflating: YOLOv8-DeepSORT-FishTracking-main/ultralytics/yolo/v8/detect/predict.py  \n",
            "  inflating: YOLOv8-DeepSORT-FishTracking-main/ultralytics/yolo/v8/detect/train.py  \n",
            "  inflating: YOLOv8-DeepSORT-FishTracking-main/ultralytics/yolo/v8/detect/val.py  \n",
            "  inflating: YOLOv8-DeepSORT-FishTracking-main/YOLOv8_DeepSORT_TRACKING_SCRIPT.ipynb  \n",
            "  inflating: YOLOv8-DeepSORT-FishTracking-main/YOLOv8_Detection_Tracking_CustomData_Complete.ipynb  \n"
          ]
        }
      ]
    },
    {
      "cell_type": "code",
      "source": [
        "!pwd"
      ],
      "metadata": {
        "id": "JitJHqk9DOxN",
        "colab": {
          "base_uri": "https://localhost:8080/"
        },
        "outputId": "e719ca92-fb49-48cc-8191-bd8117ca8810"
      },
      "execution_count": null,
      "outputs": [
        {
          "output_type": "stream",
          "name": "stdout",
          "text": [
            "/content\n"
          ]
        }
      ]
    },
    {
      "cell_type": "markdown",
      "source": [
        "##Setting the Current Directory"
      ],
      "metadata": {
        "id": "7ADXGAbbDVFi"
      }
    },
    {
      "cell_type": "code",
      "source": [
        "%cd /content/YOLOv8-DeepSORT-FishTracking-main"
      ],
      "metadata": {
        "id": "9pcdincfDWMO",
        "colab": {
          "base_uri": "https://localhost:8080/"
        },
        "outputId": "4bc7a1a1-53ca-4a52-ed2a-047e5326e486"
      },
      "execution_count": null,
      "outputs": [
        {
          "output_type": "stream",
          "name": "stdout",
          "text": [
            "/content/YOLOv8-DeepSORT-FishTracking-main\n"
          ]
        }
      ]
    },
    {
      "cell_type": "code",
      "source": [
        "!pip install -e '.[dev]'"
      ],
      "metadata": {
        "id": "UtYELyRyDdyO",
        "colab": {
          "base_uri": "https://localhost:8080/",
          "height": 1000
        },
        "outputId": "cd166992-7de0-4216-f8e3-cbcc526da4d0"
      },
      "execution_count": null,
      "outputs": [
        {
          "output_type": "stream",
          "name": "stdout",
          "text": [
            "Looking in indexes: https://pypi.org/simple, https://us-python.pkg.dev/colab-wheels/public/simple/\n",
            "Obtaining file:///content/YOLOv8-DeepSORT-FishTracking-main\n",
            "  Preparing metadata (setup.py) ... \u001b[?25l\u001b[?25hdone\n",
            "Collecting hydra-core>=1.2.0\n",
            "  Downloading hydra_core-1.3.2-py3-none-any.whl (154 kB)\n",
            "\u001b[2K     \u001b[90m━━━━━━━━━━━━━━━━━━━━━━━━━━━━━━━━━━━━━━\u001b[0m \u001b[32m154.5/154.5 kB\u001b[0m \u001b[31m16.0 MB/s\u001b[0m eta \u001b[36m0:00:00\u001b[0m\n",
            "\u001b[?25hRequirement already satisfied: matplotlib>=3.2.2 in /usr/local/lib/python3.9/dist-packages (from ultralytics==8.0.3) (3.7.1)\n",
            "Requirement already satisfied: numpy>=1.18.5 in /usr/local/lib/python3.9/dist-packages (from ultralytics==8.0.3) (1.22.4)\n",
            "Requirement already satisfied: opencv-python>=4.1.1 in /usr/local/lib/python3.9/dist-packages (from ultralytics==8.0.3) (4.7.0.72)\n",
            "Requirement already satisfied: Pillow>=7.1.2 in /usr/local/lib/python3.9/dist-packages (from ultralytics==8.0.3) (8.4.0)\n",
            "Requirement already satisfied: PyYAML>=5.3.1 in /usr/local/lib/python3.9/dist-packages (from ultralytics==8.0.3) (6.0)\n",
            "Requirement already satisfied: requests>=2.23.0 in /usr/local/lib/python3.9/dist-packages (from ultralytics==8.0.3) (2.27.1)\n",
            "Requirement already satisfied: scipy>=1.4.1 in /usr/local/lib/python3.9/dist-packages (from ultralytics==8.0.3) (1.10.1)\n",
            "Requirement already satisfied: torch>=1.7.0 in /usr/local/lib/python3.9/dist-packages (from ultralytics==8.0.3) (2.0.0+cu118)\n",
            "Requirement already satisfied: torchvision>=0.8.1 in /usr/local/lib/python3.9/dist-packages (from ultralytics==8.0.3) (0.15.1+cu118)\n",
            "Requirement already satisfied: tqdm>=4.64.0 in /usr/local/lib/python3.9/dist-packages (from ultralytics==8.0.3) (4.65.0)\n",
            "Requirement already satisfied: tensorboard>=2.4.1 in /usr/local/lib/python3.9/dist-packages (from ultralytics==8.0.3) (2.12.1)\n",
            "Requirement already satisfied: pandas>=1.1.4 in /usr/local/lib/python3.9/dist-packages (from ultralytics==8.0.3) (1.5.3)\n",
            "Requirement already satisfied: seaborn>=0.11.0 in /usr/local/lib/python3.9/dist-packages (from ultralytics==8.0.3) (0.12.2)\n",
            "Requirement already satisfied: ipython in /usr/local/lib/python3.9/dist-packages (from ultralytics==8.0.3) (7.34.0)\n",
            "Requirement already satisfied: psutil in /usr/local/lib/python3.9/dist-packages (from ultralytics==8.0.3) (5.9.4)\n",
            "Collecting thop>=0.1.1\n",
            "  Downloading thop-0.1.1.post2209072238-py3-none-any.whl (15 kB)\n",
            "Collecting GitPython>=3.1.24\n",
            "  Downloading GitPython-3.1.31-py3-none-any.whl (184 kB)\n",
            "\u001b[2K     \u001b[90m━━━━━━━━━━━━━━━━━━━━━━━━━━━━━━━━━━━━━━\u001b[0m \u001b[32m184.3/184.3 kB\u001b[0m \u001b[31m25.3 MB/s\u001b[0m eta \u001b[36m0:00:00\u001b[0m\n",
            "\u001b[?25hCollecting check-manifest\n",
            "  Downloading check_manifest-0.49-py3-none-any.whl (20 kB)\n",
            "Requirement already satisfied: pytest in /usr/local/lib/python3.9/dist-packages (from ultralytics==8.0.3) (7.2.2)\n",
            "Collecting pytest-cov\n",
            "  Downloading pytest_cov-4.0.0-py3-none-any.whl (21 kB)\n",
            "Collecting coverage\n",
            "  Downloading coverage-7.2.3-cp39-cp39-manylinux_2_5_x86_64.manylinux1_x86_64.manylinux_2_17_x86_64.manylinux2014_x86_64.whl (227 kB)\n",
            "\u001b[2K     \u001b[90m━━━━━━━━━━━━━━━━━━━━━━━━━━━━━━━━━━━━━━\u001b[0m \u001b[32m227.5/227.5 kB\u001b[0m \u001b[31m29.4 MB/s\u001b[0m eta \u001b[36m0:00:00\u001b[0m\n",
            "\u001b[?25hCollecting mkdocs\n",
            "  Downloading mkdocs-1.4.2-py3-none-any.whl (3.7 MB)\n",
            "\u001b[2K     \u001b[90m━━━━━━━━━━━━━━━━━━━━━━━━━━━━━━━━━━━━━━━━\u001b[0m \u001b[32m3.7/3.7 MB\u001b[0m \u001b[31m101.0 MB/s\u001b[0m eta \u001b[36m0:00:00\u001b[0m\n",
            "\u001b[?25hCollecting mkdocstrings[python]\n",
            "  Downloading mkdocstrings-0.21.2-py3-none-any.whl (26 kB)\n",
            "Collecting mkdocs-material\n",
            "  Downloading mkdocs_material-9.1.6-py3-none-any.whl (7.8 MB)\n",
            "\u001b[2K     \u001b[90m━━━━━━━━━━━━━━━━━━━━━━━━━━━━━━━━━━━━━━━━\u001b[0m \u001b[32m7.8/7.8 MB\u001b[0m \u001b[31m84.3 MB/s\u001b[0m eta \u001b[36m0:00:00\u001b[0m\n",
            "\u001b[?25hCollecting gitdb<5,>=4.0.1\n",
            "  Downloading gitdb-4.0.10-py3-none-any.whl (62 kB)\n",
            "\u001b[2K     \u001b[90m━━━━━━━━━━━━━━━━━━━━━━━━━━━━━━━━━━━━━━━━\u001b[0m \u001b[32m62.7/62.7 kB\u001b[0m \u001b[31m8.1 MB/s\u001b[0m eta \u001b[36m0:00:00\u001b[0m\n",
            "\u001b[?25hCollecting omegaconf<2.4,>=2.2\n",
            "  Downloading omegaconf-2.3.0-py3-none-any.whl (79 kB)\n",
            "\u001b[2K     \u001b[90m━━━━━━━━━━━━━━━━━━━━━━━━━━━━━━━━━━━━━━━━\u001b[0m \u001b[32m79.5/79.5 kB\u001b[0m \u001b[31m10.8 MB/s\u001b[0m eta \u001b[36m0:00:00\u001b[0m\n",
            "\u001b[?25hCollecting antlr4-python3-runtime==4.9.*\n",
            "  Downloading antlr4-python3-runtime-4.9.3.tar.gz (117 kB)\n",
            "\u001b[2K     \u001b[90m━━━━━━━━━━━━━━━━━━━━━━━━━━━━━━━━━━━━━━\u001b[0m \u001b[32m117.0/117.0 kB\u001b[0m \u001b[31m15.4 MB/s\u001b[0m eta \u001b[36m0:00:00\u001b[0m\n",
            "\u001b[?25h  Preparing metadata (setup.py) ... \u001b[?25l\u001b[?25hdone\n",
            "Requirement already satisfied: packaging in /usr/local/lib/python3.9/dist-packages (from hydra-core>=1.2.0->ultralytics==8.0.3) (23.0)\n",
            "Requirement already satisfied: importlib-resources>=3.2.0 in /usr/local/lib/python3.9/dist-packages (from matplotlib>=3.2.2->ultralytics==8.0.3) (5.12.0)\n",
            "Requirement already satisfied: contourpy>=1.0.1 in /usr/local/lib/python3.9/dist-packages (from matplotlib>=3.2.2->ultralytics==8.0.3) (1.0.7)\n",
            "Requirement already satisfied: python-dateutil>=2.7 in /usr/local/lib/python3.9/dist-packages (from matplotlib>=3.2.2->ultralytics==8.0.3) (2.8.2)\n",
            "Requirement already satisfied: pyparsing>=2.3.1 in /usr/local/lib/python3.9/dist-packages (from matplotlib>=3.2.2->ultralytics==8.0.3) (3.0.9)\n",
            "Requirement already satisfied: cycler>=0.10 in /usr/local/lib/python3.9/dist-packages (from matplotlib>=3.2.2->ultralytics==8.0.3) (0.11.0)\n",
            "Requirement already satisfied: kiwisolver>=1.0.1 in /usr/local/lib/python3.9/dist-packages (from matplotlib>=3.2.2->ultralytics==8.0.3) (1.4.4)\n",
            "Requirement already satisfied: fonttools>=4.22.0 in /usr/local/lib/python3.9/dist-packages (from matplotlib>=3.2.2->ultralytics==8.0.3) (4.39.3)\n",
            "Requirement already satisfied: pytz>=2020.1 in /usr/local/lib/python3.9/dist-packages (from pandas>=1.1.4->ultralytics==8.0.3) (2022.7.1)\n",
            "Requirement already satisfied: charset-normalizer~=2.0.0 in /usr/local/lib/python3.9/dist-packages (from requests>=2.23.0->ultralytics==8.0.3) (2.0.12)\n",
            "Requirement already satisfied: urllib3<1.27,>=1.21.1 in /usr/local/lib/python3.9/dist-packages (from requests>=2.23.0->ultralytics==8.0.3) (1.26.15)\n",
            "Requirement already satisfied: certifi>=2017.4.17 in /usr/local/lib/python3.9/dist-packages (from requests>=2.23.0->ultralytics==8.0.3) (2022.12.7)\n",
            "Requirement already satisfied: idna<4,>=2.5 in /usr/local/lib/python3.9/dist-packages (from requests>=2.23.0->ultralytics==8.0.3) (3.4)\n",
            "Requirement already satisfied: grpcio>=1.48.2 in /usr/local/lib/python3.9/dist-packages (from tensorboard>=2.4.1->ultralytics==8.0.3) (1.53.0)\n",
            "Requirement already satisfied: absl-py>=0.4 in /usr/local/lib/python3.9/dist-packages (from tensorboard>=2.4.1->ultralytics==8.0.3) (1.4.0)\n",
            "Requirement already satisfied: protobuf>=3.19.6 in /usr/local/lib/python3.9/dist-packages (from tensorboard>=2.4.1->ultralytics==8.0.3) (3.20.3)\n",
            "Requirement already satisfied: tensorboard-plugin-wit>=1.6.0 in /usr/local/lib/python3.9/dist-packages (from tensorboard>=2.4.1->ultralytics==8.0.3) (1.8.1)\n",
            "Requirement already satisfied: werkzeug>=1.0.1 in /usr/local/lib/python3.9/dist-packages (from tensorboard>=2.4.1->ultralytics==8.0.3) (2.2.3)\n",
            "Requirement already satisfied: markdown>=2.6.8 in /usr/local/lib/python3.9/dist-packages (from tensorboard>=2.4.1->ultralytics==8.0.3) (3.4.3)\n",
            "Requirement already satisfied: setuptools>=41.0.0 in /usr/local/lib/python3.9/dist-packages (from tensorboard>=2.4.1->ultralytics==8.0.3) (67.6.1)\n",
            "Requirement already satisfied: tensorboard-data-server<0.8.0,>=0.7.0 in /usr/local/lib/python3.9/dist-packages (from tensorboard>=2.4.1->ultralytics==8.0.3) (0.7.0)\n",
            "Requirement already satisfied: google-auth<3,>=1.6.3 in /usr/local/lib/python3.9/dist-packages (from tensorboard>=2.4.1->ultralytics==8.0.3) (2.17.2)\n",
            "Requirement already satisfied: google-auth-oauthlib<1.1,>=0.5 in /usr/local/lib/python3.9/dist-packages (from tensorboard>=2.4.1->ultralytics==8.0.3) (1.0.0)\n",
            "Requirement already satisfied: wheel>=0.26 in /usr/local/lib/python3.9/dist-packages (from tensorboard>=2.4.1->ultralytics==8.0.3) (0.40.0)\n",
            "Requirement already satisfied: typing-extensions in /usr/local/lib/python3.9/dist-packages (from torch>=1.7.0->ultralytics==8.0.3) (4.5.0)\n",
            "Requirement already satisfied: networkx in /usr/local/lib/python3.9/dist-packages (from torch>=1.7.0->ultralytics==8.0.3) (3.1)\n",
            "Requirement already satisfied: jinja2 in /usr/local/lib/python3.9/dist-packages (from torch>=1.7.0->ultralytics==8.0.3) (3.1.2)\n",
            "Requirement already satisfied: filelock in /usr/local/lib/python3.9/dist-packages (from torch>=1.7.0->ultralytics==8.0.3) (3.11.0)\n",
            "Requirement already satisfied: sympy in /usr/local/lib/python3.9/dist-packages (from torch>=1.7.0->ultralytics==8.0.3) (1.11.1)\n",
            "Requirement already satisfied: triton==2.0.0 in /usr/local/lib/python3.9/dist-packages (from torch>=1.7.0->ultralytics==8.0.3) (2.0.0)\n",
            "Requirement already satisfied: lit in /usr/local/lib/python3.9/dist-packages (from triton==2.0.0->torch>=1.7.0->ultralytics==8.0.3) (16.0.1)\n",
            "Requirement already satisfied: cmake in /usr/local/lib/python3.9/dist-packages (from triton==2.0.0->torch>=1.7.0->ultralytics==8.0.3) (3.25.2)\n",
            "Requirement already satisfied: tomli in /usr/local/lib/python3.9/dist-packages (from check-manifest->ultralytics==8.0.3) (2.0.1)\n",
            "Collecting build>=0.1\n",
            "  Downloading build-0.10.0-py3-none-any.whl (17 kB)\n",
            "Requirement already satisfied: pickleshare in /usr/local/lib/python3.9/dist-packages (from ipython->ultralytics==8.0.3) (0.7.5)\n",
            "Requirement already satisfied: pexpect>4.3 in /usr/local/lib/python3.9/dist-packages (from ipython->ultralytics==8.0.3) (4.8.0)\n",
            "Requirement already satisfied: traitlets>=4.2 in /usr/local/lib/python3.9/dist-packages (from ipython->ultralytics==8.0.3) (5.7.1)\n",
            "Requirement already satisfied: backcall in /usr/local/lib/python3.9/dist-packages (from ipython->ultralytics==8.0.3) (0.2.0)\n",
            "Requirement already satisfied: pygments in /usr/local/lib/python3.9/dist-packages (from ipython->ultralytics==8.0.3) (2.14.0)\n",
            "Requirement already satisfied: prompt-toolkit!=3.0.0,!=3.0.1,<3.1.0,>=2.0.0 in /usr/local/lib/python3.9/dist-packages (from ipython->ultralytics==8.0.3) (3.0.38)\n",
            "Requirement already satisfied: matplotlib-inline in /usr/local/lib/python3.9/dist-packages (from ipython->ultralytics==8.0.3) (0.1.6)\n",
            "Collecting jedi>=0.16\n",
            "  Downloading jedi-0.18.2-py2.py3-none-any.whl (1.6 MB)\n",
            "\u001b[2K     \u001b[90m━━━━━━━━━━━━━━━━━━━━━━━━━━━━━━━━━━━━━━━━\u001b[0m \u001b[32m1.6/1.6 MB\u001b[0m \u001b[31m84.5 MB/s\u001b[0m eta \u001b[36m0:00:00\u001b[0m\n",
            "\u001b[?25hRequirement already satisfied: decorator in /usr/local/lib/python3.9/dist-packages (from ipython->ultralytics==8.0.3) (4.4.2)\n",
            "Collecting watchdog>=2.0\n",
            "  Downloading watchdog-3.0.0-py3-none-manylinux2014_x86_64.whl (82 kB)\n",
            "\u001b[2K     \u001b[90m━━━━━━━━━━━━━━━━━━━━━━━━━━━━━━━━━━━━━━━━\u001b[0m \u001b[32m82.1/82.1 kB\u001b[0m \u001b[31m12.2 MB/s\u001b[0m eta \u001b[36m0:00:00\u001b[0m\n",
            "\u001b[?25hCollecting pyyaml-env-tag>=0.1\n",
            "  Downloading pyyaml_env_tag-0.1-py3-none-any.whl (3.9 kB)\n",
            "Collecting ghp-import>=1.0\n",
            "  Downloading ghp_import-2.1.0-py3-none-any.whl (11 kB)\n",
            "Requirement already satisfied: importlib-metadata>=4.3 in /usr/local/lib/python3.9/dist-packages (from mkdocs->ultralytics==8.0.3) (6.3.0)\n",
            "Collecting markdown>=2.6.8\n",
            "  Downloading Markdown-3.3.7-py3-none-any.whl (97 kB)\n",
            "\u001b[2K     \u001b[90m━━━━━━━━━━━━━━━━━━━━━━━━━━━━━━━━━━━━━━━━\u001b[0m \u001b[32m97.8/97.8 kB\u001b[0m \u001b[31m14.1 MB/s\u001b[0m eta \u001b[36m0:00:00\u001b[0m\n",
            "\u001b[?25hCollecting mergedeep>=1.3.4\n",
            "  Downloading mergedeep-1.3.4-py3-none-any.whl (6.4 kB)\n",
            "Requirement already satisfied: click>=7.0 in /usr/local/lib/python3.9/dist-packages (from mkdocs->ultralytics==8.0.3) (8.1.3)\n",
            "Collecting colorama>=0.4\n",
            "  Downloading colorama-0.4.6-py2.py3-none-any.whl (25 kB)\n",
            "Collecting mkdocs-material-extensions>=1.1\n",
            "  Downloading mkdocs_material_extensions-1.1.1-py3-none-any.whl (7.9 kB)\n",
            "Collecting pymdown-extensions>=9.9.1\n",
            "  Downloading pymdown_extensions-9.11-py3-none-any.whl (239 kB)\n",
            "\u001b[2K     \u001b[90m━━━━━━━━━━━━━━━━━━━━━━━━━━━━━━━━━━━━━━\u001b[0m \u001b[32m239.9/239.9 kB\u001b[0m \u001b[31m27.2 MB/s\u001b[0m eta \u001b[36m0:00:00\u001b[0m\n",
            "\u001b[?25hRequirement already satisfied: regex>=2022.4.24 in /usr/local/lib/python3.9/dist-packages (from mkdocs-material->ultralytics==8.0.3) (2022.10.31)\n",
            "Requirement already satisfied: MarkupSafe>=1.1 in /usr/local/lib/python3.9/dist-packages (from mkdocstrings[python]->ultralytics==8.0.3) (2.1.2)\n",
            "Collecting mkdocs-autorefs>=0.3.1\n",
            "  Downloading mkdocs_autorefs-0.4.1-py3-none-any.whl (9.8 kB)\n",
            "Collecting mkdocstrings-python>=0.5.2\n",
            "  Downloading mkdocstrings_python-0.9.0-py3-none-any.whl (38 kB)\n",
            "Requirement already satisfied: exceptiongroup>=1.0.0rc8 in /usr/local/lib/python3.9/dist-packages (from pytest->ultralytics==8.0.3) (1.1.1)\n",
            "Requirement already satisfied: attrs>=19.2.0 in /usr/local/lib/python3.9/dist-packages (from pytest->ultralytics==8.0.3) (22.2.0)\n",
            "Requirement already satisfied: iniconfig in /usr/local/lib/python3.9/dist-packages (from pytest->ultralytics==8.0.3) (2.0.0)\n",
            "Requirement already satisfied: pluggy<2.0,>=0.12 in /usr/local/lib/python3.9/dist-packages (from pytest->ultralytics==8.0.3) (1.0.0)\n",
            "Collecting pyproject_hooks\n",
            "  Downloading pyproject_hooks-1.0.0-py3-none-any.whl (9.3 kB)\n",
            "Collecting smmap<6,>=3.0.1\n",
            "  Downloading smmap-5.0.0-py3-none-any.whl (24 kB)\n",
            "Requirement already satisfied: six>=1.9.0 in /usr/local/lib/python3.9/dist-packages (from google-auth<3,>=1.6.3->tensorboard>=2.4.1->ultralytics==8.0.3) (1.16.0)\n",
            "Requirement already satisfied: pyasn1-modules>=0.2.1 in /usr/local/lib/python3.9/dist-packages (from google-auth<3,>=1.6.3->tensorboard>=2.4.1->ultralytics==8.0.3) (0.2.8)\n",
            "Requirement already satisfied: rsa<5,>=3.1.4 in /usr/local/lib/python3.9/dist-packages (from google-auth<3,>=1.6.3->tensorboard>=2.4.1->ultralytics==8.0.3) (4.9)\n",
            "Requirement already satisfied: cachetools<6.0,>=2.0.0 in /usr/local/lib/python3.9/dist-packages (from google-auth<3,>=1.6.3->tensorboard>=2.4.1->ultralytics==8.0.3) (5.3.0)\n",
            "Requirement already satisfied: requests-oauthlib>=0.7.0 in /usr/local/lib/python3.9/dist-packages (from google-auth-oauthlib<1.1,>=0.5->tensorboard>=2.4.1->ultralytics==8.0.3) (1.3.1)\n",
            "Requirement already satisfied: zipp>=0.5 in /usr/local/lib/python3.9/dist-packages (from importlib-metadata>=4.3->mkdocs->ultralytics==8.0.3) (3.15.0)\n",
            "Requirement already satisfied: parso<0.9.0,>=0.8.0 in /usr/local/lib/python3.9/dist-packages (from jedi>=0.16->ipython->ultralytics==8.0.3) (0.8.3)\n",
            "Collecting griffe>=0.24\n",
            "  Downloading griffe-0.27.1-py3-none-any.whl (88 kB)\n",
            "\u001b[2K     \u001b[90m━━━━━━━━━━━━━━━━━━━━━━━━━━━━━━━━━━━━━━━━\u001b[0m \u001b[32m88.6/88.6 kB\u001b[0m \u001b[31m14.2 MB/s\u001b[0m eta \u001b[36m0:00:00\u001b[0m\n",
            "\u001b[?25hRequirement already satisfied: ptyprocess>=0.5 in /usr/local/lib/python3.9/dist-packages (from pexpect>4.3->ipython->ultralytics==8.0.3) (0.7.0)\n",
            "Requirement already satisfied: wcwidth in /usr/local/lib/python3.9/dist-packages (from prompt-toolkit!=3.0.0,!=3.0.1,<3.1.0,>=2.0.0->ipython->ultralytics==8.0.3) (0.2.6)\n",
            "Requirement already satisfied: mpmath>=0.19 in /usr/local/lib/python3.9/dist-packages (from sympy->torch>=1.7.0->ultralytics==8.0.3) (1.3.0)\n",
            "Requirement already satisfied: pyasn1<0.5.0,>=0.4.6 in /usr/local/lib/python3.9/dist-packages (from pyasn1-modules>=0.2.1->google-auth<3,>=1.6.3->tensorboard>=2.4.1->ultralytics==8.0.3) (0.4.8)\n",
            "Requirement already satisfied: oauthlib>=3.0.0 in /usr/local/lib/python3.9/dist-packages (from requests-oauthlib>=0.7.0->google-auth-oauthlib<1.1,>=0.5->tensorboard>=2.4.1->ultralytics==8.0.3) (3.2.2)\n",
            "Building wheels for collected packages: antlr4-python3-runtime\n",
            "  Building wheel for antlr4-python3-runtime (setup.py) ... \u001b[?25l\u001b[?25hdone\n",
            "  Created wheel for antlr4-python3-runtime: filename=antlr4_python3_runtime-4.9.3-py3-none-any.whl size=144573 sha256=bea399e87c3a76101e5040d11b05e6415e85e377a1c49ee390636af78275faec\n",
            "  Stored in directory: /root/.cache/pip/wheels/23/cf/80/f3efa822e6ab23277902ee9165fe772eeb1dfb8014f359020a\n",
            "Successfully built antlr4-python3-runtime\n",
            "Installing collected packages: antlr4-python3-runtime, watchdog, smmap, pyyaml-env-tag, pyproject_hooks, omegaconf, mkdocs-material-extensions, mergedeep, jedi, coverage, colorama, markdown, hydra-core, griffe, gitdb, ghp-import, build, pytest-cov, pymdown-extensions, mkdocs, GitPython, check-manifest, mkdocs-material, mkdocs-autorefs, mkdocstrings, mkdocstrings-python, thop, ultralytics\n",
            "  Attempting uninstall: markdown\n",
            "    Found existing installation: Markdown 3.4.3\n",
            "    Uninstalling Markdown-3.4.3:\n",
            "      Successfully uninstalled Markdown-3.4.3\n",
            "  Running setup.py develop for ultralytics\n",
            "Successfully installed GitPython-3.1.31 antlr4-python3-runtime-4.9.3 build-0.10.0 check-manifest-0.49 colorama-0.4.6 coverage-7.2.3 ghp-import-2.1.0 gitdb-4.0.10 griffe-0.27.1 hydra-core-1.3.2 jedi-0.18.2 markdown-3.3.7 mergedeep-1.3.4 mkdocs-1.4.2 mkdocs-autorefs-0.4.1 mkdocs-material-9.1.6 mkdocs-material-extensions-1.1.1 mkdocstrings-0.21.2 mkdocstrings-python-0.9.0 omegaconf-2.3.0 pymdown-extensions-9.11 pyproject_hooks-1.0.0 pytest-cov-4.0.0 pyyaml-env-tag-0.1 smmap-5.0.0 thop-0.1.1.post2209072238 ultralytics-8.0.3 watchdog-3.0.0\n"
          ]
        },
        {
          "output_type": "display_data",
          "data": {
            "application/vnd.colab-display-data+json": {
              "pip_warning": {
                "packages": [
                  "pydevd_plugins"
                ]
              }
            }
          },
          "metadata": {}
        }
      ]
    },
    {
      "cell_type": "code",
      "source": [
        "%cd /content/YOLOv8-DeepSORT-FishTracking-main/ultralytics/yolo/v8/detect"
      ],
      "metadata": {
        "id": "Cn50qoj4Depv",
        "colab": {
          "base_uri": "https://localhost:8080/"
        },
        "outputId": "3312fd16-7f7f-48ef-c18d-db041b512b1c"
      },
      "execution_count": null,
      "outputs": [
        {
          "output_type": "stream",
          "name": "stdout",
          "text": [
            "/content/YOLOv8-DeepSORT-FishTracking-main/ultralytics/yolo/v8/detect\n"
          ]
        }
      ]
    },
    {
      "cell_type": "markdown",
      "metadata": {
        "id": "hiXb0ocmutTc"
      },
      "source": [
        " # Importing the Fish dataset"
      ]
    },
    {
      "cell_type": "code",
      "execution_count": null,
      "metadata": {
        "id": "QV89rN4Auv9a",
        "colab": {
          "base_uri": "https://localhost:8080/",
          "height": 1000
        },
        "outputId": "ad2f40c4-9d5b-470e-d93e-1226ea62325c"
      },
      "outputs": [
        {
          "output_type": "stream",
          "name": "stdout",
          "text": [
            "Looking in indexes: https://pypi.org/simple, https://us-python.pkg.dev/colab-wheels/public/simple/\n",
            "Collecting roboflow\n",
            "  Downloading roboflow-1.0.5-py3-none-any.whl (56 kB)\n",
            "\u001b[2K     \u001b[90m━━━━━━━━━━━━━━━━━━━━━━━━━━━━━━━━━━━━━━━━\u001b[0m \u001b[32m56.2/56.2 kB\u001b[0m \u001b[31m6.4 MB/s\u001b[0m eta \u001b[36m0:00:00\u001b[0m\n",
            "\u001b[?25hRequirement already satisfied: numpy>=1.18.5 in /usr/local/lib/python3.9/dist-packages (from roboflow) (1.22.4)\n",
            "Requirement already satisfied: PyYAML>=5.3.1 in /usr/local/lib/python3.9/dist-packages (from roboflow) (6.0)\n",
            "Requirement already satisfied: Pillow>=7.1.2 in /usr/local/lib/python3.9/dist-packages (from roboflow) (8.4.0)\n",
            "Requirement already satisfied: matplotlib in /usr/local/lib/python3.9/dist-packages (from roboflow) (3.7.1)\n",
            "Requirement already satisfied: certifi==2022.12.7 in /usr/local/lib/python3.9/dist-packages (from roboflow) (2022.12.7)\n",
            "Requirement already satisfied: opencv-python>=4.1.2 in /usr/local/lib/python3.9/dist-packages (from roboflow) (4.7.0.72)\n",
            "Requirement already satisfied: chardet==4.0.0 in /usr/local/lib/python3.9/dist-packages (from roboflow) (4.0.0)\n",
            "Collecting requests-toolbelt\n",
            "  Downloading requests_toolbelt-0.10.1-py2.py3-none-any.whl (54 kB)\n",
            "\u001b[2K     \u001b[90m━━━━━━━━━━━━━━━━━━━━━━━━━━━━━━━━━━━━━━━━\u001b[0m \u001b[32m54.5/54.5 kB\u001b[0m \u001b[31m6.4 MB/s\u001b[0m eta \u001b[36m0:00:00\u001b[0m\n",
            "\u001b[?25hRequirement already satisfied: six in /usr/local/lib/python3.9/dist-packages (from roboflow) (1.16.0)\n",
            "Requirement already satisfied: requests in /usr/local/lib/python3.9/dist-packages (from roboflow) (2.27.1)\n",
            "Requirement already satisfied: python-dateutil in /usr/local/lib/python3.9/dist-packages (from roboflow) (2.8.2)\n",
            "Collecting cycler==0.10.0\n",
            "  Downloading cycler-0.10.0-py2.py3-none-any.whl (6.5 kB)\n",
            "Requirement already satisfied: tqdm>=4.41.0 in /usr/local/lib/python3.9/dist-packages (from roboflow) (4.65.0)\n",
            "Collecting idna==2.10\n",
            "  Downloading idna-2.10-py2.py3-none-any.whl (58 kB)\n",
            "\u001b[2K     \u001b[90m━━━━━━━━━━━━━━━━━━━━━━━━━━━━━━━━━━━━━━━━\u001b[0m \u001b[32m58.8/58.8 kB\u001b[0m \u001b[31m7.5 MB/s\u001b[0m eta \u001b[36m0:00:00\u001b[0m\n",
            "\u001b[?25hRequirement already satisfied: kiwisolver>=1.3.1 in /usr/local/lib/python3.9/dist-packages (from roboflow) (1.4.4)\n",
            "Collecting pyparsing==2.4.7\n",
            "  Downloading pyparsing-2.4.7-py2.py3-none-any.whl (67 kB)\n",
            "\u001b[2K     \u001b[90m━━━━━━━━━━━━━━━━━━━━━━━━━━━━━━━━━━━━━━━━\u001b[0m \u001b[32m67.8/67.8 kB\u001b[0m \u001b[31m9.3 MB/s\u001b[0m eta \u001b[36m0:00:00\u001b[0m\n",
            "\u001b[?25hRequirement already satisfied: urllib3>=1.26.6 in /usr/local/lib/python3.9/dist-packages (from roboflow) (1.26.15)\n",
            "Collecting wget\n",
            "  Downloading wget-3.2.zip (10 kB)\n",
            "  Preparing metadata (setup.py) ... \u001b[?25l\u001b[?25hdone\n",
            "Collecting python-dotenv\n",
            "  Downloading python_dotenv-1.0.0-py3-none-any.whl (19 kB)\n",
            "Requirement already satisfied: contourpy>=1.0.1 in /usr/local/lib/python3.9/dist-packages (from matplotlib->roboflow) (1.0.7)\n",
            "Requirement already satisfied: fonttools>=4.22.0 in /usr/local/lib/python3.9/dist-packages (from matplotlib->roboflow) (4.39.3)\n",
            "Requirement already satisfied: importlib-resources>=3.2.0 in /usr/local/lib/python3.9/dist-packages (from matplotlib->roboflow) (5.12.0)\n",
            "Requirement already satisfied: packaging>=20.0 in /usr/local/lib/python3.9/dist-packages (from matplotlib->roboflow) (23.0)\n",
            "Requirement already satisfied: charset-normalizer~=2.0.0 in /usr/local/lib/python3.9/dist-packages (from requests->roboflow) (2.0.12)\n",
            "Requirement already satisfied: zipp>=3.1.0 in /usr/local/lib/python3.9/dist-packages (from importlib-resources>=3.2.0->matplotlib->roboflow) (3.15.0)\n",
            "Building wheels for collected packages: wget\n",
            "  Building wheel for wget (setup.py) ... \u001b[?25l\u001b[?25hdone\n",
            "  Created wheel for wget: filename=wget-3.2-py3-none-any.whl size=9676 sha256=89c7bac092ebeccc3fb23210a67d75d1729f79934bf83d498d81dcc4dad4aaba\n",
            "  Stored in directory: /root/.cache/pip/wheels/04/5f/3e/46cc37c5d698415694d83f607f833f83f0149e49b3af9d0f38\n",
            "Successfully built wget\n",
            "Installing collected packages: wget, python-dotenv, pyparsing, idna, cycler, requests-toolbelt, roboflow\n",
            "  Attempting uninstall: pyparsing\n",
            "    Found existing installation: pyparsing 3.0.9\n",
            "    Uninstalling pyparsing-3.0.9:\n",
            "      Successfully uninstalled pyparsing-3.0.9\n",
            "  Attempting uninstall: idna\n",
            "    Found existing installation: idna 3.4\n",
            "    Uninstalling idna-3.4:\n",
            "      Successfully uninstalled idna-3.4\n",
            "  Attempting uninstall: cycler\n",
            "    Found existing installation: cycler 0.11.0\n",
            "    Uninstalling cycler-0.11.0:\n",
            "      Successfully uninstalled cycler-0.11.0\n",
            "Successfully installed cycler-0.10.0 idna-2.10 pyparsing-2.4.7 python-dotenv-1.0.0 requests-toolbelt-0.10.1 roboflow-1.0.5 wget-3.2\n"
          ]
        },
        {
          "output_type": "display_data",
          "data": {
            "application/vnd.colab-display-data+json": {
              "pip_warning": {
                "packages": [
                  "cycler",
                  "pyparsing"
                ]
              }
            }
          },
          "metadata": {}
        },
        {
          "output_type": "stream",
          "name": "stdout",
          "text": [
            "loading Roboflow workspace...\n",
            "loading Roboflow project...\n",
            "Downloading Dataset Version Zip in yolo_binario_train-2 to yolov5pytorch: 99% [881287168 / 884357564] bytes"
          ]
        },
        {
          "output_type": "stream",
          "name": "stderr",
          "text": [
            "Extracting Dataset Version Zip to yolo_binario_train-2 in yolov5pytorch:: 100%|██████████| 20000/20000 [00:06<00:00, 2981.83it/s]\n"
          ]
        }
      ],
      "source": [
        "!pip install roboflow\n",
        "\n",
        "from roboflow import Roboflow\n",
        "rf = Roboflow(api_key=\"NTAcuDAenu2ijnWKZW8c\")\n",
        "project = rf.workspace(\"fishod\").project(\"yolo_binario_train\")\n",
        "dataset = project.version(2).download(\"yolov5\")"
      ]
    },
    {
      "cell_type": "markdown",
      "source": [
        "##To implement the DeepSORT tracking, downloading the required files "
      ],
      "metadata": {
        "id": "s-e2KWuxEIAi"
      }
    },
    {
      "cell_type": "code",
      "source": [
        "!gdown \"https://drive.google.com/uc?id=11ZSZcG-bcbueXZC3rN08CM0qqX3eiHxf&confirm=t\""
      ],
      "metadata": {
        "id": "1MMKgd44EI60",
        "colab": {
          "base_uri": "https://localhost:8080/"
        },
        "outputId": "baa5bca9-16fb-4fe9-82f1-50c62cd091a5"
      },
      "execution_count": null,
      "outputs": [
        {
          "output_type": "stream",
          "name": "stdout",
          "text": [
            "Downloading...\n",
            "From: https://drive.google.com/uc?id=11ZSZcG-bcbueXZC3rN08CM0qqX3eiHxf&confirm=t\n",
            "To: /content/YOLOv8-DeepSORT-FishTracking-main/ultralytics/yolo/v8/detect/deep_sort_pytorch.zip\n",
            "100% 43.1M/43.1M [00:00<00:00, 62.1MB/s]\n"
          ]
        }
      ]
    },
    {
      "cell_type": "code",
      "source": [
        "!unzip 'deep_sort_pytorch.zip'"
      ],
      "metadata": {
        "id": "4EuphufGEMPS",
        "colab": {
          "base_uri": "https://localhost:8080/"
        },
        "outputId": "6eee03fd-1c68-442b-ae35-de0798daab5a"
      },
      "execution_count": null,
      "outputs": [
        {
          "output_type": "stream",
          "name": "stdout",
          "text": [
            "Archive:  deep_sort_pytorch.zip\n",
            "  inflating: deep_sort_pytorch/.gitignore  \n",
            "   creating: deep_sort_pytorch/configs/\n",
            "  inflating: deep_sort_pytorch/configs/deep_sort.yaml  \n",
            "   creating: deep_sort_pytorch/deep_sort/\n",
            "  inflating: deep_sort_pytorch/deep_sort/__init__.py  \n",
            "   creating: deep_sort_pytorch/deep_sort/__pycache__/\n",
            "  inflating: deep_sort_pytorch/deep_sort/__pycache__/__init__.cpython-310.pyc  \n",
            "  inflating: deep_sort_pytorch/deep_sort/__pycache__/__init__.cpython-37.pyc  \n",
            "  inflating: deep_sort_pytorch/deep_sort/__pycache__/__init__.cpython-38.pyc  \n",
            "  inflating: deep_sort_pytorch/deep_sort/__pycache__/deep_sort.cpython-310.pyc  \n",
            "  inflating: deep_sort_pytorch/deep_sort/__pycache__/deep_sort.cpython-37.pyc  \n",
            "  inflating: deep_sort_pytorch/deep_sort/__pycache__/deep_sort.cpython-38.pyc  \n",
            "   creating: deep_sort_pytorch/deep_sort/deep/\n",
            " extracting: deep_sort_pytorch/deep_sort/deep/__init__.py  \n",
            "   creating: deep_sort_pytorch/deep_sort/deep/__pycache__/\n",
            "  inflating: deep_sort_pytorch/deep_sort/deep/__pycache__/__init__.cpython-310.pyc  \n",
            "  inflating: deep_sort_pytorch/deep_sort/deep/__pycache__/__init__.cpython-37.pyc  \n",
            "  inflating: deep_sort_pytorch/deep_sort/deep/__pycache__/__init__.cpython-38.pyc  \n",
            "  inflating: deep_sort_pytorch/deep_sort/deep/__pycache__/feature_extractor.cpython-310.pyc  \n",
            "  inflating: deep_sort_pytorch/deep_sort/deep/__pycache__/feature_extractor.cpython-37.pyc  \n",
            "  inflating: deep_sort_pytorch/deep_sort/deep/__pycache__/feature_extractor.cpython-38.pyc  \n",
            "  inflating: deep_sort_pytorch/deep_sort/deep/__pycache__/model.cpython-310.pyc  \n",
            "  inflating: deep_sort_pytorch/deep_sort/deep/__pycache__/model.cpython-37.pyc  \n",
            "  inflating: deep_sort_pytorch/deep_sort/deep/__pycache__/model.cpython-38.pyc  \n",
            "   creating: deep_sort_pytorch/deep_sort/deep/checkpoint/\n",
            " extracting: deep_sort_pytorch/deep_sort/deep/checkpoint/.gitkeep  \n",
            "  inflating: deep_sort_pytorch/deep_sort/deep/checkpoint/ckpt.t7  \n",
            "  inflating: deep_sort_pytorch/deep_sort/deep/evaluate.py  \n",
            "  inflating: deep_sort_pytorch/deep_sort/deep/feature_extractor.py  \n",
            "  inflating: deep_sort_pytorch/deep_sort/deep/model.py  \n",
            "  inflating: deep_sort_pytorch/deep_sort/deep/original_model.py  \n",
            "  inflating: deep_sort_pytorch/deep_sort/deep/test.py  \n",
            "  inflating: deep_sort_pytorch/deep_sort/deep/train.jpg  \n",
            "  inflating: deep_sort_pytorch/deep_sort/deep/train.py  \n",
            "  inflating: deep_sort_pytorch/deep_sort/deep_sort.py  \n",
            "  inflating: deep_sort_pytorch/deep_sort/README.md  \n",
            "   creating: deep_sort_pytorch/deep_sort/sort - Copy/\n",
            " extracting: deep_sort_pytorch/deep_sort/sort - Copy/__init__.py  \n",
            "   creating: deep_sort_pytorch/deep_sort/sort - Copy/__pycache__/\n",
            "  inflating: deep_sort_pytorch/deep_sort/sort - Copy/__pycache__/__init__.cpython-37.pyc  \n",
            "  inflating: deep_sort_pytorch/deep_sort/sort - Copy/__pycache__/__init__.cpython-38.pyc  \n",
            "  inflating: deep_sort_pytorch/deep_sort/sort - Copy/__pycache__/detection.cpython-37.pyc  \n",
            "  inflating: deep_sort_pytorch/deep_sort/sort - Copy/__pycache__/detection.cpython-38.pyc  \n",
            "  inflating: deep_sort_pytorch/deep_sort/sort - Copy/__pycache__/iou_matching.cpython-37.pyc  \n",
            "  inflating: deep_sort_pytorch/deep_sort/sort - Copy/__pycache__/iou_matching.cpython-38.pyc  \n",
            "  inflating: deep_sort_pytorch/deep_sort/sort - Copy/__pycache__/kalman_filter.cpython-37.pyc  \n",
            "  inflating: deep_sort_pytorch/deep_sort/sort - Copy/__pycache__/kalman_filter.cpython-38.pyc  \n",
            "  inflating: deep_sort_pytorch/deep_sort/sort - Copy/__pycache__/linear_assignment.cpython-37.pyc  \n",
            "  inflating: deep_sort_pytorch/deep_sort/sort - Copy/__pycache__/linear_assignment.cpython-38.pyc  \n",
            "  inflating: deep_sort_pytorch/deep_sort/sort - Copy/__pycache__/nn_matching.cpython-37.pyc  \n",
            "  inflating: deep_sort_pytorch/deep_sort/sort - Copy/__pycache__/nn_matching.cpython-38.pyc  \n",
            "  inflating: deep_sort_pytorch/deep_sort/sort - Copy/__pycache__/track.cpython-37.pyc  \n",
            "  inflating: deep_sort_pytorch/deep_sort/sort - Copy/__pycache__/track.cpython-38.pyc  \n",
            "  inflating: deep_sort_pytorch/deep_sort/sort - Copy/__pycache__/tracker.cpython-37.pyc  \n",
            "  inflating: deep_sort_pytorch/deep_sort/sort - Copy/__pycache__/tracker.cpython-38.pyc  \n",
            "  inflating: deep_sort_pytorch/deep_sort/sort - Copy/iou_matching.py  \n",
            "  inflating: deep_sort_pytorch/deep_sort/sort - Copy/kalman_filter.py  \n",
            "  inflating: deep_sort_pytorch/deep_sort/sort - Copy/linear_assignment.py  \n",
            "  inflating: deep_sort_pytorch/deep_sort/sort - Copy/nn_matching.py  \n",
            "  inflating: deep_sort_pytorch/deep_sort/sort - Copy/preprocessing.py  \n",
            "   creating: deep_sort_pytorch/deep_sort/sort/\n",
            " extracting: deep_sort_pytorch/deep_sort/sort/__init__.py  \n",
            "   creating: deep_sort_pytorch/deep_sort/sort/__pycache__/\n",
            "  inflating: deep_sort_pytorch/deep_sort/sort/__pycache__/__init__.cpython-310.pyc  \n",
            "  inflating: deep_sort_pytorch/deep_sort/sort/__pycache__/__init__.cpython-37.pyc  \n",
            "  inflating: deep_sort_pytorch/deep_sort/sort/__pycache__/__init__.cpython-38.pyc  \n",
            "  inflating: deep_sort_pytorch/deep_sort/sort/__pycache__/detection.cpython-310.pyc  \n",
            "  inflating: deep_sort_pytorch/deep_sort/sort/__pycache__/detection.cpython-37.pyc  \n",
            "  inflating: deep_sort_pytorch/deep_sort/sort/__pycache__/detection.cpython-38.pyc  \n",
            "  inflating: deep_sort_pytorch/deep_sort/sort/__pycache__/iou_matching.cpython-310.pyc  \n",
            "  inflating: deep_sort_pytorch/deep_sort/sort/__pycache__/iou_matching.cpython-37.pyc  \n",
            "  inflating: deep_sort_pytorch/deep_sort/sort/__pycache__/iou_matching.cpython-38.pyc  \n",
            "  inflating: deep_sort_pytorch/deep_sort/sort/__pycache__/kalman_filter.cpython-310.pyc  \n",
            "  inflating: deep_sort_pytorch/deep_sort/sort/__pycache__/kalman_filter.cpython-37.pyc  \n",
            "  inflating: deep_sort_pytorch/deep_sort/sort/__pycache__/kalman_filter.cpython-38.pyc  \n",
            "  inflating: deep_sort_pytorch/deep_sort/sort/__pycache__/linear_assignment.cpython-310.pyc  \n",
            "  inflating: deep_sort_pytorch/deep_sort/sort/__pycache__/linear_assignment.cpython-37.pyc  \n",
            "  inflating: deep_sort_pytorch/deep_sort/sort/__pycache__/linear_assignment.cpython-38.pyc  \n",
            "  inflating: deep_sort_pytorch/deep_sort/sort/__pycache__/nn_matching.cpython-310.pyc  \n",
            "  inflating: deep_sort_pytorch/deep_sort/sort/__pycache__/nn_matching.cpython-37.pyc  \n",
            "  inflating: deep_sort_pytorch/deep_sort/sort/__pycache__/nn_matching.cpython-38.pyc  \n",
            "  inflating: deep_sort_pytorch/deep_sort/sort/__pycache__/track.cpython-310.pyc  \n",
            "  inflating: deep_sort_pytorch/deep_sort/sort/__pycache__/track.cpython-37.pyc  \n",
            "  inflating: deep_sort_pytorch/deep_sort/sort/__pycache__/track.cpython-38.pyc  \n",
            "  inflating: deep_sort_pytorch/deep_sort/sort/__pycache__/tracker.cpython-310.pyc  \n",
            "  inflating: deep_sort_pytorch/deep_sort/sort/__pycache__/tracker.cpython-37.pyc  \n",
            "  inflating: deep_sort_pytorch/deep_sort/sort/__pycache__/tracker.cpython-38.pyc  \n",
            "  inflating: deep_sort_pytorch/deep_sort/sort/detection.py  \n",
            "  inflating: deep_sort_pytorch/deep_sort/sort/iou_matching.py  \n",
            "  inflating: deep_sort_pytorch/deep_sort/sort/kalman_filter.py  \n",
            "  inflating: deep_sort_pytorch/deep_sort/sort/linear_assignment.py  \n",
            "  inflating: deep_sort_pytorch/deep_sort/sort/nn_matching.py  \n",
            "  inflating: deep_sort_pytorch/deep_sort/sort/preprocessing.py  \n",
            "  inflating: deep_sort_pytorch/deep_sort/sort/track.py  \n",
            "  inflating: deep_sort_pytorch/deep_sort/sort/tracker.py  \n",
            "  inflating: deep_sort_pytorch/LICENSE  \n",
            "  inflating: deep_sort_pytorch/README.md  \n",
            "   creating: deep_sort_pytorch/utils/\n",
            " extracting: deep_sort_pytorch/utils/__init__.py  \n",
            "   creating: deep_sort_pytorch/utils/__pycache__/\n",
            "  inflating: deep_sort_pytorch/utils/__pycache__/__init__.cpython-310.pyc  \n",
            "  inflating: deep_sort_pytorch/utils/__pycache__/__init__.cpython-37.pyc  \n",
            "  inflating: deep_sort_pytorch/utils/__pycache__/__init__.cpython-38.pyc  \n",
            "  inflating: deep_sort_pytorch/utils/__pycache__/parser.cpython-310.pyc  \n",
            "  inflating: deep_sort_pytorch/utils/__pycache__/parser.cpython-37.pyc  \n",
            "  inflating: deep_sort_pytorch/utils/__pycache__/parser.cpython-38.pyc  \n",
            "  inflating: deep_sort_pytorch/utils/asserts.py  \n",
            "  inflating: deep_sort_pytorch/utils/draw.py  \n",
            "  inflating: deep_sort_pytorch/utils/evaluation.py  \n",
            "  inflating: deep_sort_pytorch/utils/io.py  \n",
            "  inflating: deep_sort_pytorch/utils/json_logger.py  \n",
            "  inflating: deep_sort_pytorch/utils/log.py  \n",
            "  inflating: deep_sort_pytorch/utils/parser.py  \n",
            "  inflating: deep_sort_pytorch/utils/tools.py  \n"
          ]
        }
      ]
    },
    {
      "cell_type": "markdown",
      "metadata": {
        "id": "aRWSmQJzu3xC"
      },
      "source": [
        "# Train the YOLOv8 Model"
      ]
    },
    {
      "cell_type": "code",
      "execution_count": null,
      "metadata": {
        "id": "59cHs7O2uwNC"
      },
      "outputs": [],
      "source": [
        "HOME = '/content/YOLOv8-DeepSORT-FishTracking-main/ultralytics/yolo/v8/detect'"
      ]
    },
    {
      "cell_type": "code",
      "execution_count": null,
      "metadata": {
        "id": "TKr9h4h2u6WT",
        "colab": {
          "base_uri": "https://localhost:8080/"
        },
        "outputId": "1acf24de-fea3-4076-8aa1-3309b03d707d"
      },
      "outputs": [
        {
          "output_type": "stream",
          "name": "stdout",
          "text": [
            "/content/YOLOv8-DeepSORT-FishTracking-main/ultralytics/yolo/v8/detect\n"
          ]
        }
      ],
      "source": [
        "%cd {HOME}"
      ]
    },
    {
      "cell_type": "code",
      "source": [
        "# before the training you need to modify the name of the folder yolo_binario_train-2 in to yolo_binario_train and make the modification in the data.yaml"
      ],
      "metadata": {
        "id": "BVs-eIwbEfsD"
      },
      "execution_count": null,
      "outputs": []
    },
    {
      "cell_type": "code",
      "execution_count": null,
      "metadata": {
        "id": "GJv9ewniu-Li",
        "colab": {
          "base_uri": "https://localhost:8080/"
        },
        "outputId": "6bd442a9-5729-4fe4-ad74-c2d7bff26ce1"
      },
      "outputs": [
        {
          "output_type": "stream",
          "name": "stdout",
          "text": [
            "/content/YOLOv8-DeepSORT-FishTracking-main/ultralytics/yolo/v8/detect\n",
            "Downloading https://github.com/ultralytics/assets/releases/download/v0.0.0/yolov8x.pt to yolov8x.pt...\n",
            "100% 131M/131M [00:00<00:00, 257MB/s]\n",
            "\n",
            "\u001b[34m\u001b[1myolo/engine/trainer: \u001b[0mtask=detect, mode=train, model=yolov8x.pt, data=/content/YOLOv8-DeepSORT-FishTracking-main/ultralytics/yolo/v8/detect/yolo_binario_train/data.yaml, epochs=25, patience=50, batch=16, imgsz=640, save=True, cache=False, device=None, workers=8, project=None, name=None, exist_ok=False, pretrained=False, optimizer=SGD, verbose=False, seed=0, deterministic=True, single_cls=False, image_weights=False, rect=False, cos_lr=False, close_mosaic=10, resume=False, overlap_mask=True, mask_ratio=4, dropout=0.0, val=True, save_json=False, save_hybrid=False, conf=None, iou=0.7, max_det=300, half=False, dnn=False, plots=True, source=None, show=False, save_txt=False, save_conf=False, save_crop=False, hide_labels=False, hide_conf=False, vid_stride=1, line_thickness=3, visualize=False, augment=False, agnostic_nms=False, retina_masks=False, format=torchscript, keras=False, optimize=False, int8=False, dynamic=False, simplify=False, opset=17, workspace=4, nms=False, lr0=0.01, lrf=0.01, momentum=0.937, weight_decay=0.0005, warmup_epochs=3.0, warmup_momentum=0.8, warmup_bias_lr=0.1, box=7.5, cls=0.5, dfl=1.5, fl_gamma=0.0, label_smoothing=0.0, nbs=64, hsv_h=0.015, hsv_s=0.7, hsv_v=0.4, degrees=0.0, translate=0.1, scale=0.5, shear=0.0, perspective=0.0, flipud=0.0, fliplr=0.5, mosaic=1.0, mixup=0.0, copy_paste=0.0, hydra={'output_subdir': None, 'run': {'dir': '.'}}, v5loader=False, save_dir=runs/detect/train\n",
            "Ultralytics YOLOv8.0.3 🚀 Python-3.9.16 torch-2.0.0+cu118 CUDA:0 (Tesla T4, 15102MiB)\n",
            "Downloading https://ultralytics.com/assets/Arial.ttf to /root/.config/Ultralytics/Arial.ttf...\n",
            "100% 755k/755k [00:00<00:00, 124MB/s]\n",
            "2023-04-18 17:46:59.288490: I tensorflow/core/platform/cpu_feature_guard.cc:182] This TensorFlow binary is optimized to use available CPU instructions in performance-critical operations.\n",
            "To enable the following instructions: AVX2 AVX512F FMA, in other operations, rebuild TensorFlow with the appropriate compiler flags.\n",
            "2023-04-18 17:47:00.108650: W tensorflow/compiler/tf2tensorrt/utils/py_utils.cc:38] TF-TRT Warning: Could not find TensorRT\n",
            "Overriding model.yaml nc=80 with nc=1\n",
            "\n",
            "                   from  n    params  module                                       arguments                     \n",
            "  0                  -1  1      2320  ultralytics.nn.modules.Conv                  [3, 80, 3, 2]                 \n",
            "  1                  -1  1    115520  ultralytics.nn.modules.Conv                  [80, 160, 3, 2]               \n",
            "  2                  -1  3    436800  ultralytics.nn.modules.C2f                   [160, 160, 3, True]           \n",
            "  3                  -1  1    461440  ultralytics.nn.modules.Conv                  [160, 320, 3, 2]              \n",
            "  4                  -1  6   3281920  ultralytics.nn.modules.C2f                   [320, 320, 6, True]           \n",
            "  5                  -1  1   1844480  ultralytics.nn.modules.Conv                  [320, 640, 3, 2]              \n",
            "  6                  -1  6  13117440  ultralytics.nn.modules.C2f                   [640, 640, 6, True]           \n",
            "  7                  -1  1   3687680  ultralytics.nn.modules.Conv                  [640, 640, 3, 2]              \n",
            "  8                  -1  3   6969600  ultralytics.nn.modules.C2f                   [640, 640, 3, True]           \n",
            "  9                  -1  1   1025920  ultralytics.nn.modules.SPPF                  [640, 640, 5]                 \n",
            " 10                  -1  1         0  torch.nn.modules.upsampling.Upsample         [None, 2, 'nearest']          \n",
            " 11             [-1, 6]  1         0  ultralytics.nn.modules.Concat                [1]                           \n",
            " 12                  -1  3   7379200  ultralytics.nn.modules.C2f                   [1280, 640, 3]                \n",
            " 13                  -1  1         0  torch.nn.modules.upsampling.Upsample         [None, 2, 'nearest']          \n",
            " 14             [-1, 4]  1         0  ultralytics.nn.modules.Concat                [1]                           \n",
            " 15                  -1  3   1948800  ultralytics.nn.modules.C2f                   [960, 320, 3]                 \n",
            " 16                  -1  1    922240  ultralytics.nn.modules.Conv                  [320, 320, 3, 2]              \n",
            " 17            [-1, 12]  1         0  ultralytics.nn.modules.Concat                [1]                           \n",
            " 18                  -1  3   7174400  ultralytics.nn.modules.C2f                   [960, 640, 3]                 \n",
            " 19                  -1  1   3687680  ultralytics.nn.modules.Conv                  [640, 640, 3, 2]              \n",
            " 20             [-1, 9]  1         0  ultralytics.nn.modules.Concat                [1]                           \n",
            " 21                  -1  3   7379200  ultralytics.nn.modules.C2f                   [1280, 640, 3]                \n",
            " 22        [15, 18, 21]  1   8718931  ultralytics.nn.modules.Detect                [1, [320, 640, 640]]          \n",
            "Model summary: 365 layers, 68153571 parameters, 68153555 gradients, 258.1 GFLOPs\n",
            "\n",
            "Transferred 589/595 items from pretrained weights\n",
            "\u001b[34m\u001b[1moptimizer:\u001b[0m SGD(lr=0.01) with parameter groups 97 weight(decay=0.0), 104 weight(decay=0.0005), 103 bias\n",
            "\u001b[34m\u001b[1mtrain: \u001b[0mScanning /content/YOLOv8-DeepSORT-FishTracking-main/ultralytics/yolo/v8/detect/yolo_binario_train/train/labels... 8994 images, 102 backgrounds, 0 corrupt: 100% 8994/8994 [00:05<00:00, 1653.04it/s]\n",
            "Signal received. 15 <frame at 0x7f19ada3c3e0, file '/usr/lib/python3.9/multiprocessing/util.py', line 435, code _flush_std_streams>\n",
            "\u001b[34m\u001b[1mtrain: \u001b[0mWARNING ⚠️ /content/YOLOv8-DeepSORT-FishTracking-main/ultralytics/yolo/v8/detect/yolo_binario_train/train/images/vlcsnap-2021-04-26-10h18m13s519_jpg.rf.12c294ad06d4f86898a176b42a172608.jpg: 1 duplicate labels removed\n",
            "\u001b[34m\u001b[1mtrain: \u001b[0mWARNING ⚠️ /content/YOLOv8-DeepSORT-FishTracking-main/ultralytics/yolo/v8/detect/yolo_binario_train/train/images/vlcsnap-2021-04-26-10h18m13s519_jpg.rf.6a6a8ce9bce9f94b3ebc27f5c7bd6785.jpg: 1 duplicate labels removed\n",
            "\u001b[34m\u001b[1mtrain: \u001b[0mWARNING ⚠️ /content/YOLOv8-DeepSORT-FishTracking-main/ultralytics/yolo/v8/detect/yolo_binario_train/train/images/vlcsnap-2021-04-26-10h18m13s519_jpg.rf.d58b8948f5b32fce79e5d7fddc783e0d.jpg: 1 duplicate labels removed\n",
            "\u001b[34m\u001b[1mtrain: \u001b[0mWARNING ⚠️ /content/YOLOv8-DeepSORT-FishTracking-main/ultralytics/yolo/v8/detect/yolo_binario_train/train/images/vlcsnap-2021-04-26-10h29m10s296_jpg.rf.8eed58b5d658652f6ea0a7673dbb40e8.jpg: 1 duplicate labels removed\n",
            "\u001b[34m\u001b[1mtrain: \u001b[0mWARNING ⚠️ /content/YOLOv8-DeepSORT-FishTracking-main/ultralytics/yolo/v8/detect/yolo_binario_train/train/images/vlcsnap-2021-04-26-10h29m10s296_jpg.rf.a83838b22ab5c16f3bb74a4e15e2036a.jpg: 1 duplicate labels removed\n",
            "\u001b[34m\u001b[1mtrain: \u001b[0mWARNING ⚠️ /content/YOLOv8-DeepSORT-FishTracking-main/ultralytics/yolo/v8/detect/yolo_binario_train/train/images/vlcsnap-2021-04-26-10h29m10s296_jpg.rf.a9d95a2d3e13165e74a56ebfe0b4c118.jpg: 1 duplicate labels removed\n",
            "\u001b[34m\u001b[1mtrain: \u001b[0mNew cache created: /content/YOLOv8-DeepSORT-FishTracking-main/ultralytics/yolo/v8/detect/yolo_binario_train/train/labels.cache\n",
            "\u001b[34m\u001b[1malbumentations: \u001b[0mBlur(p=0.01, blur_limit=(3, 7)), MedianBlur(p=0.01, blur_limit=(3, 7)), ToGray(p=0.01), CLAHE(p=0.01, clip_limit=(1, 4.0), tile_grid_size=(8, 8))\n",
            "\u001b[34m\u001b[1mval: \u001b[0mScanning /content/YOLOv8-DeepSORT-FishTracking-main/ultralytics/yolo/v8/detect/yolo_binario_train/valid/labels... 400 images, 4 backgrounds, 0 corrupt: 100% 400/400 [00:00<00:00, 1791.78it/s]\n",
            "Signal received. 15 <frame at 0x7f1aeb829860, file '/usr/lib/python3.9/threading.py', line 785, code _maintain_shutdown_locks>\n",
            "\u001b[34m\u001b[1mval: \u001b[0mWARNING ⚠️ /content/YOLOv8-DeepSORT-FishTracking-main/ultralytics/yolo/v8/detect/yolo_binario_train/valid/images/vivo_20180825_084500M_jpg.rf.4651596f00e2b2c162b466579e1431da.jpg: 1 duplicate labels removed\n",
            "\u001b[34m\u001b[1mval: \u001b[0mNew cache created: /content/YOLOv8-DeepSORT-FishTracking-main/ultralytics/yolo/v8/detect/yolo_binario_train/valid/labels.cache\n",
            "Image sizes 640 train, 640 val\n",
            "Using 2 dataloader workers\n",
            "Logging results to \u001b[1mruns/detect/train\u001b[0m\n",
            "Starting training for 25 epochs...\n",
            "\n",
            "      Epoch    GPU_mem   box_loss   cls_loss   dfl_loss  Instances       Size\n",
            "       1/25      2.75G       2.08      1.971      1.677         18        640: 100% 563/563 [12:39<00:00,  1.35s/it]\n",
            "                 Class     Images  Instances      Box(P          R      mAP50  mAP50-95): 100% 13/13 [00:20<00:00,  1.58s/it]\n",
            "                   all        400       2061      0.583      0.417      0.442      0.147\n",
            "\n",
            "      Epoch    GPU_mem   box_loss   cls_loss   dfl_loss  Instances       Size\n",
            "       2/25      13.1G      1.805       1.43      1.452          3        640: 100% 563/563 [12:15<00:00,  1.31s/it]\n",
            "                 Class     Images  Instances      Box(P          R      mAP50  mAP50-95): 100% 13/13 [00:16<00:00,  1.30s/it]\n",
            "                   all        400       2061      0.683      0.491      0.538      0.225\n",
            "\n",
            "      Epoch    GPU_mem   box_loss   cls_loss   dfl_loss  Instances       Size\n",
            "       3/25      13.1G      1.833      1.464       1.47         41        640: 100% 563/563 [12:22<00:00,  1.32s/it]\n",
            "                 Class     Images  Instances      Box(P          R      mAP50  mAP50-95): 100% 13/13 [00:16<00:00,  1.27s/it]\n",
            "                   all        400       2061      0.608      0.393      0.407      0.157\n",
            "\n",
            "      Epoch    GPU_mem   box_loss   cls_loss   dfl_loss  Instances       Size\n",
            "       4/25      13.1G      1.865      1.532      1.494          2        640: 100% 563/563 [12:19<00:00,  1.31s/it]\n",
            "                 Class     Images  Instances      Box(P          R      mAP50  mAP50-95): 100% 13/13 [00:16<00:00,  1.30s/it]\n",
            "                   all        400       2061       0.61      0.456      0.493      0.181\n",
            "\n",
            "      Epoch    GPU_mem   box_loss   cls_loss   dfl_loss  Instances       Size\n",
            "       5/25      13.1G       1.82      1.431       1.46          2        640: 100% 563/563 [12:16<00:00,  1.31s/it]\n",
            "                 Class     Images  Instances      Box(P          R      mAP50  mAP50-95): 100% 13/13 [00:17<00:00,  1.35s/it]\n",
            "                   all        400       2061      0.693      0.483      0.533       0.22\n",
            "\n",
            "      Epoch    GPU_mem   box_loss   cls_loss   dfl_loss  Instances       Size\n",
            "       6/25      13.1G      1.771      1.324      1.427          3        640: 100% 563/563 [12:17<00:00,  1.31s/it]\n",
            "                 Class     Images  Instances      Box(P          R      mAP50  mAP50-95): 100% 13/13 [00:16<00:00,  1.30s/it]\n",
            "                   all        400       2061      0.689      0.506      0.555      0.229\n",
            "\n",
            "      Epoch    GPU_mem   box_loss   cls_loss   dfl_loss  Instances       Size\n",
            "       7/25      14.2G       1.73      1.258      1.403          5        640: 100% 563/563 [12:09<00:00,  1.29s/it]\n",
            "                 Class     Images  Instances      Box(P          R      mAP50  mAP50-95): 100% 13/13 [00:17<00:00,  1.35s/it]\n",
            "                   all        400       2061      0.726      0.498      0.578      0.249\n",
            "\n",
            "      Epoch    GPU_mem   box_loss   cls_loss   dfl_loss  Instances       Size\n",
            "       8/25      14.2G      1.695      1.207      1.376          6        640: 100% 563/563 [12:11<00:00,  1.30s/it]\n",
            "                 Class     Images  Instances      Box(P          R      mAP50  mAP50-95): 100% 13/13 [00:16<00:00,  1.28s/it]\n",
            "                   all        400       2061      0.734      0.539      0.608       0.24\n",
            "\n",
            "      Epoch    GPU_mem   box_loss   cls_loss   dfl_loss  Instances       Size\n",
            "       9/25      14.2G      1.652      1.143      1.358         29        640: 100% 563/563 [12:13<00:00,  1.30s/it]\n",
            "                 Class     Images  Instances      Box(P          R      mAP50  mAP50-95): 100% 13/13 [00:16<00:00,  1.30s/it]\n",
            "                   all        400       2061      0.724      0.558      0.611      0.259\n",
            "\n",
            "      Epoch    GPU_mem   box_loss   cls_loss   dfl_loss  Instances       Size\n",
            "      10/25      14.2G      1.626      1.097      1.348        152        640:  46% 260/563 [05:36<06:09,  1.22s/it]"
          ]
        }
      ],
      "source": [
        "%cd {HOME}\n",
        "!python train.py model=yolov8x.pt data=/content/YOLOv8-DeepSORT-FishTracking-main/ultralytics/yolo/v8/detect/yolo_binario_train/data.yaml epochs=25 imgsz=640"
      ]
    },
    {
      "cell_type": "code",
      "execution_count": null,
      "metadata": {
        "id": "cZdPKElt2Qly"
      },
      "outputs": [],
      "source": [
        "!ls {HOME}//runs/detect/train"
      ]
    },
    {
      "cell_type": "markdown",
      "source": [
        "# Plot confusion matrix"
      ],
      "metadata": {
        "id": "PIanR2SNE1sJ"
      }
    },
    {
      "cell_type": "code",
      "source": [
        "Image(filename = '/content/YOLOv8-DeepSORT-Object-Tracking/runs/detect/train2/confusion_matrix.png')"
      ],
      "metadata": {
        "id": "dZc5bhuaE1Cv"
      },
      "execution_count": null,
      "outputs": []
    },
    {
      "cell_type": "code",
      "source": [
        "%cd {HOME}\n",
        "\n",
        "Image(filename=f'{HOME}/runs/detect/train/results.png',width=500)"
      ],
      "metadata": {
        "id": "D9vDlBFgFJgQ"
      },
      "execution_count": null,
      "outputs": []
    },
    {
      "cell_type": "markdown",
      "metadata": {
        "id": "2mkTfQKy2JVl"
      },
      "source": [
        "# download the weight with the google drive link"
      ]
    },
    {
      "cell_type": "code",
      "source": [
        "# https://drive.google.com/file/d/1CnijEEW51NK0MMDDMii3i7c21tteZX4p/view?usp=sharing"
      ],
      "metadata": {
        "id": "ZaIIEuwLOAGP"
      },
      "execution_count": null,
      "outputs": []
    },
    {
      "cell_type": "code",
      "source": [
        "%cd {HOME}"
      ],
      "metadata": {
        "colab": {
          "base_uri": "https://localhost:8080/"
        },
        "id": "HYmQpt--ONdm",
        "outputId": "16497f68-ed54-43bd-ee83-4747bc6d9d4a"
      },
      "execution_count": null,
      "outputs": [
        {
          "output_type": "stream",
          "name": "stdout",
          "text": [
            "/content\n"
          ]
        }
      ]
    },
    {
      "cell_type": "code",
      "source": [
        "!gdown \"https://drive.google.com/file/d/1CnijEEW51NK0MMDDMii3i7c21tteZX4p/view?usp=sharing\""
      ],
      "metadata": {
        "colab": {
          "base_uri": "https://localhost:8080/"
        },
        "id": "BYn6_MG_OCzN",
        "outputId": "2a58facb-e671-42bb-c7c1-2a1585456132"
      },
      "execution_count": null,
      "outputs": [
        {
          "output_type": "stream",
          "name": "stdout",
          "text": [
            "/usr/local/lib/python3.9/dist-packages/gdown/parse_url.py:35: UserWarning: You specified a Google Drive link that is not the correct link to download a file. You might want to try `--fuzzy` option or the following url: https://drive.google.com/uc?id=1CnijEEW51NK0MMDDMii3i7c21tteZX4p\n",
            "  warnings.warn(\n",
            "Downloading...\n",
            "From: https://drive.google.com/file/d/1CnijEEW51NK0MMDDMii3i7c21tteZX4p/view?usp=sharing\n",
            "To: /content/view?usp=sharing\n",
            "76.3kB [00:00, 3.00MB/s]\n"
          ]
        }
      ]
    },
    {
      "cell_type": "code",
      "execution_count": null,
      "metadata": {
        "id": "gJgA_KSsycyg"
      },
      "outputs": [],
      "source": [
        "!cp \"/content/runs/detect/train/weights/best.pt\" \"/content/gdrive/MyDrive/FishProject/Weights2\""
      ]
    },
    {
      "cell_type": "markdown",
      "source": [
        "#**Printing the Model Prediction on Validation Batch**"
      ],
      "metadata": {
        "id": "d7w3BRNkFQqV"
      }
    },
    {
      "cell_type": "code",
      "execution_count": null,
      "metadata": {
        "id": "YA0bvNxA3npQ"
      },
      "outputs": [],
      "source": [
        "%cd {HOME}\n",
        "Image(filename=f'{HOME}/runs/detect/train2/val_batch0_pred.jpg',width=600)"
      ]
    },
    {
      "cell_type": "markdown",
      "metadata": {
        "id": "xLLUA6QN4Df3"
      },
      "source": [
        "# Validate Custom Model"
      ]
    },
    {
      "cell_type": "code",
      "source": [
        "! pwd"
      ],
      "metadata": {
        "id": "EfC8bnp_PrqF"
      },
      "execution_count": null,
      "outputs": []
    },
    {
      "cell_type": "code",
      "execution_count": null,
      "metadata": {
        "id": "tc2s6hnY4GED"
      },
      "outputs": [],
      "source": [
        "%cd {HOME}\n",
        "!yolo task=detect mode=val model={HOME}/runs/detect/train2/weights/best.pt data=/content/datasets/Testing-Self-Annotation/data.yaml"
      ]
    },
    {
      "cell_type": "markdown",
      "metadata": {
        "id": "xSbKOA8O8hdL"
      },
      "source": [
        "Testing on demo video"
      ]
    },
    {
      "cell_type": "code",
      "execution_count": null,
      "metadata": {
        "id": "YzZ7LcR98Ic7"
      },
      "outputs": [],
      "source": [
        "%cd {HOME}\n",
        "!yolo task=detect mode=predict model={HOME}/runs/detect/train2/weights/best.pt conf=0.4 source='/content/videos/test1.mp4'"
      ]
    },
    {
      "cell_type": "markdown",
      "metadata": {
        "id": "_dxVUUR--X9I"
      },
      "source": [
        "display the demo video"
      ]
    },
    {
      "cell_type": "code",
      "execution_count": null,
      "metadata": {
        "id": "A5u8hsEK-a4h"
      },
      "outputs": [],
      "source": [
        "from IPython.display import HTML\n",
        "from base64 import b64encode\n",
        "import os\n",
        "\n",
        "#Input video path\n",
        "save_path='/content/runs/detect/predict/test1.mp4'\n",
        "\n",
        "# Compressed video path\n",
        "compressed_path=\"/content/result_compress.mp4\"\n",
        "\n",
        "os.system(f\"ffmpeg -i {save_path} -vcodec libx264 {compressed_path}\")\n",
        "\n",
        "#Show video\n",
        "mp4=open(compressed_path,'rb').read()\n",
        "data_url=\"data:video/mp4;base64,\"+b64encode(mp4).decode()\n",
        "HTML(\"\"\"\n",
        "<video width=400 controls>\n",
        "  <source src=\"%s\" type=\"video/mp4\">\n",
        "</video>\n",
        "\"\"\" % data_url)"
      ]
    },
    {
      "cell_type": "code",
      "execution_count": null,
      "metadata": {
        "id": "9q8oIgi8D-nT"
      },
      "outputs": [],
      "source": [
        "%cd {HOME}\n",
        "!yolo task=detect mode=predict model={HOME}/runs/detect/train2/weights/best.pt conf=0.4 source='/content/videos/test2.mp4'"
      ]
    },
    {
      "cell_type": "code",
      "execution_count": null,
      "metadata": {
        "id": "Fc9AobEGEOKc"
      },
      "outputs": [],
      "source": [
        "from IPython.display import HTML\n",
        "from base64 import b64encode\n",
        "import os\n",
        "\n",
        "#Input video path\n",
        "save_path='/content/runs/detect/predict2/test2.mp4'\n",
        "\n",
        "# Compressed video path\n",
        "compressed_path=\"/content/result_compress1.mp4\"\n",
        "\n",
        "os.system(f\"ffmpeg -i {save_path} -vcodec libx264 {compressed_path}\")\n",
        "\n",
        "#Show video\n",
        "mp4=open(compressed_path,'rb').read()\n",
        "data_url=\"data:video/mp4;base64,\"+b64encode(mp4).decode()\n",
        "HTML(\"\"\"\n",
        "<video width=400 controls>\n",
        "  <source src=\"%s\" type=\"video/mp4\">\n",
        "</video>\n",
        "\"\"\" % data_url)"
      ]
    }
  ],
  "metadata": {
    "accelerator": "GPU",
    "colab": {
      "provenance": [],
      "mount_file_id": "11Ga_srHSrrUKu2EL8OsgrJ9L6lTLnoYY",
      "authorship_tag": "ABX9TyNUfLkOrep9ardGErW9TsqK",
      "include_colab_link": true
    },
    "gpuClass": "standard",
    "kernelspec": {
      "display_name": "Python 3",
      "name": "python3"
    },
    "language_info": {
      "name": "python"
    }
  },
  "nbformat": 4,
  "nbformat_minor": 0
}